{
 "cells": [
  {
   "cell_type": "code",
   "execution_count": null,
   "metadata": {},
   "outputs": [],
   "source": []
  },
  {
   "cell_type": "code",
   "execution_count": 1,
   "metadata": {},
   "outputs": [],
   "source": [
    "from pdp_utils import *\n",
    "from tqdm import tqdm\n",
    "import time\n",
    "import random\n",
    "import numpy as np\n",
    "n = 10000\n",
    "\n",
    "def oneopt_operator_nborhood(cur_sol):\n",
    "    nbors = []\n",
    "    for i in range(len(cur_sol)):\n",
    "        currentlist = []\n",
    "        for j in range(len(cur_sol)):\n",
    "            insertable = cur_sol.copy()\n",
    "            item_to_insert = insertable[i]\n",
    "            insertable = insertable[:i] + insertable[i+1:]\n",
    "            insertable.insert(j, item_to_insert)\n",
    "            currentlist.append(insertable)\n",
    "        nbors = nbors + currentlist\n",
    "    return nbors\n",
    "\n",
    "def twoopt_operator_nborhood(cur_sol):\n",
    "    \n",
    "    nbors = []\n",
    "    for i in range(len(cur_sol)):\n",
    "        for j in range(len(cur_sol)):\n",
    "            insertable = cur_sol.copy()\n",
    "            i_val = insertable[i]\n",
    "            insertable[i] = insertable[j]\n",
    "            insertable[j] = i_val\n",
    "            nbors.append(insertable)\n",
    "    return nbors\n",
    "\n",
    "def threeopt_operator_nborhood(cur_sol):\n",
    "    nbors = []\n",
    "    for i in range(len(cur_sol)):\n",
    "        for j in range(len(cur_sol)):\n",
    "            for k in range(len(cur_sol)):\n",
    "                insertable = cur_sol.copy()\n",
    "                i_val = insertable[i]\n",
    "                j_val = insertable[j]\n",
    "                insertable[i] = insertable[k]\n",
    "                insertable[j] = i_val\n",
    "                insertable[k] = j_val\n",
    "                nbors.append(insertable)\n",
    "    return nbors\n",
    "\n",
    "def solution_sanity(sol):\n",
    "    \"\"\"Ensures that any given solution both picks up and delivers its assigned calls\"\"\"\n",
    "    currentcalls = []\n",
    "    for i in range(len(sol)):\n",
    "        if sol[i] == 0: \n",
    "            if len(currentcalls) > 0:\n",
    "                return False\n",
    "        else:\n",
    "            if sol[i] in currentcalls:\n",
    "                currentcalls.remove(sol[i])\n",
    "            else:\n",
    "                currentcalls.append(sol[i])\n",
    "    return True\n",
    "\n",
    "def rejected_calls_cost(sol, prob):\n",
    "    total = 0\n",
    "    sol.reverse()\n",
    "    for call in sol:\n",
    "        if call == 0:\n",
    "            return total\n",
    "        total += prob[\"Cargo\"][call - 1][3]\n",
    "    raise ValueError(\"Bad solution\")\n",
    "        \n",
    "    "
   ]
  },
  {
   "cell_type": "code",
   "execution_count": 22,
   "metadata": {},
   "outputs": [],
   "source": [
    "def localsearch(init_sol, operator, prob):\n",
    "    best_sol = init_sol\n",
    "    best_sol_cost = cost_function(best_sol, prob)\n",
    "    for i in tqdm(range(n)):\n",
    "        best_nbor = None\n",
    "        best_nbor_cost = float('inf')\n",
    "        nbors = operator(best_sol)\n",
    "        nbors = [nbor for nbor in nbors if solution_sanity(nbor)]\n",
    "        for nbor in nbors:\n",
    "            feasibility, c = feasibility_check(nbor, prob)\n",
    "            if feasibility:\n",
    "                nbor_cost = cost_function(nbor, prob) + rejected_calls_cost(nbor, prob)\n",
    "                if nbor_cost <= best_nbor_cost:\n",
    "                    best_nbor_cost = nbor_cost\n",
    "                    best_nbor = nbor\n",
    "        \n",
    "        if best_nbor is not None and best_sol_cost > best_nbor_cost:\n",
    "            best_sol = best_nbor\n",
    "            best_sol_cost = best_nbor_cost\n",
    "    return best_sol, best_sol_cost\n",
    "\n",
    "def annealing(init_sol, operator, prob):\n",
    "    best_sol = init_sol\n",
    "    best_sol_cost = cost_function(best_sol, prob)\n",
    "    delta_es = []\n",
    "    \n",
    "    for i in tqdm(range(100)):\n",
    "        best_nbor = None\n",
    "        best_nbor_cost = float('inf')\n",
    "        nbors = operator(best_sol)\n",
    "        nbors = [nbor for nbor in nbors if solution_sanity(nbor)]\n",
    "        for nbor in nbors:\n",
    "            feasibility, c = feasibility_check(nbor, prob)\n",
    "            if feasibility:\n",
    "                nbor_cost = cost_function(nbor, prob) + rejected_calls_cost(nbor, prob)\n",
    "                if nbor_cost < best_nbor_cost:\n",
    "                    best_nbor_cost = nbor_cost\n",
    "                    best_nbor = nbor\n",
    "                else:\n",
    "                    randval = random.random()\n",
    "                    if randval < 0.8:\n",
    "                        best_nbor_cost = nbor_cost\n",
    "                        best_nbor = nbor\n",
    "        \n",
    "        if best_nbor is not None:\n",
    "            delta_es.append(best_sol_cost - best_nbor_cost)\n",
    "            if best_sol_cost > best_nbor_cost:\n",
    "                best_sol = best_nbor\n",
    "                best_sol_cost = best_nbor_cost\n",
    "    T = (sum(delta_es) / len(delta_es)) / np.log(0.8)\n",
    "    alpha = np.sqrt(0.1 / T)\n",
    "    \n",
    "    for i in tqdm(range(n - 100)):\n",
    "        best_nbor = None\n",
    "        best_nbor_cost = float('inf')\n",
    "        nbors = operator(best_sol)\n",
    "        nbors = [nbor for nbor in nbors if solution_sanity(nbor)]\n",
    "        for nbor in nbors:\n",
    "            feasibility, c = feasibility_check(nbor, prob)\n",
    "            if feasibility:\n",
    "                nbor_cost = cost_function(nbor, prob) + rejected_calls_cost(nbor, prob)\n",
    "                if nbor_cost < best_nbor_cost:\n",
    "                    best_nbor_cost = nbor_cost\n",
    "                    best_nbor = nbor\n",
    "                else:\n",
    "                    delta_e = nbor_cost - best_nbor_cost\n",
    "                    randval = random.random()\n",
    "                    if randval < np.exp(-delta_e / T):\n",
    "                        best_nbor_cost = nbor_cost\n",
    "                        best_nbor = nbor\n",
    "        \n",
    "        if best_nbor is not None:\n",
    "            delta_es.append(best_sol_cost - best_nbor_cost)\n",
    "            if best_sol_cost > best_nbor_cost:\n",
    "                best_sol = best_nbor\n",
    "                best_sol_cost = best_nbor_cost\n",
    "        T = T * alpha\n",
    "\n",
    "        \n",
    "    return best_sol, best_sol_cost"
   ]
  },
  {
   "cell_type": "code",
   "execution_count": null,
   "metadata": {},
   "outputs": [],
   "source": [
    "def run_problem(problem, initial_solution):\n",
    "    methods = [localsearch, annealing]\n",
    "    operators = [oneopt_operator_nborhood, twoopt_operator_nborhood, threeopt_operator_nborhood]\n",
    "    prob = load_problem('./Call_7_Vehicle_3.txt')\n",
    "    mtod = []\n",
    "    for method in methods\n",
    "        oprtr = []\n",
    "        for operator in operators:\n",
    "            best_sol, best_sol_cost = method(initial_solution, operator, prob)\n",
    "            oprtr.append(best_sol, best_sol_cost)\n",
    "        mtod.append(oprtr)"
   ]
  },
  {
   "cell_type": "markdown",
   "metadata": {},
   "source": [
    "# C7V3"
   ]
  },
  {
   "cell_type": "code",
   "execution_count": 20,
   "metadata": {},
   "outputs": [
    {
     "name": "stderr",
     "output_type": "stream",
     "text": [
      "100%|██████████| 100/100 [00:02<00:00, 38.31it/s]\n",
      "  1%|          | 81/9900 [00:02<06:06, 26.79it/s]<ipython-input-18-3f66f487a469>:68: RuntimeWarning: overflow encountered in double_scalars\n",
      "  if randval < np.exp(-delta_e / T):\n",
      "  1%|          | 87/9900 [00:02<07:13, 22.64it/s]<ipython-input-18-3f66f487a469>:68: RuntimeWarning: invalid value encountered in double_scalars\n",
      "  if randval < np.exp(-delta_e / T):\n",
      "<ipython-input-18-3f66f487a469>:68: RuntimeWarning: divide by zero encountered in double_scalars\n",
      "  if randval < np.exp(-delta_e / T):\n",
      "100%|██████████| 9900/9900 [05:36<00:00, 29.46it/s]"
     ]
    },
    {
     "name": "stdout",
     "output_type": "stream",
     "text": [
      "[7, 7, 0, 3, 3, 0, 1, 5, 5, 1, 0, 6, 4, 2] 1234724.5\n"
     ]
    },
    {
     "name": "stderr",
     "output_type": "stream",
     "text": [
      "\n"
     ]
    }
   ],
   "source": [
    "initial_solution = [7, 7, 0, 3, 3, 0, 1, 5, 5, 1, 0, 6, 4, 2]\n",
    "prob = load_problem('./Call_7_Vehicle_3.txt')\n",
    "for method in methods\n",
    "    for operator in operators:\n",
    "        best_sol, best_sol_cost = method(initial_solution, operator, prob)\n",
    "        print(best_sol, best_sol_cost)"
   ]
  },
  {
   "cell_type": "code",
   "execution_count": 21,
   "metadata": {},
   "outputs": [
    {
     "data": {
      "text/plain": [
       "True"
      ]
     },
     "execution_count": 21,
     "metadata": {},
     "output_type": "execute_result"
    }
   ],
   "source": [
    "solution_sanity([7, 7, 0, 3, 3, 0, 1, 5, 5, 1, 0, 6, 4, 2])"
   ]
  },
  {
   "cell_type": "code",
   "execution_count": null,
   "metadata": {},
   "outputs": [],
   "source": []
  }
 ],
 "metadata": {
  "kernelspec": {
   "display_name": "Python 3",
   "language": "python",
   "name": "python3"
  },
  "language_info": {
   "codemirror_mode": {
    "name": "ipython",
    "version": 3
   },
   "file_extension": ".py",
   "mimetype": "text/x-python",
   "name": "python",
   "nbconvert_exporter": "python",
   "pygments_lexer": "ipython3",
   "version": "3.8.2"
  }
 },
 "nbformat": 4,
 "nbformat_minor": 4
}
