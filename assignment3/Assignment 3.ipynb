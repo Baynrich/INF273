{
 "cells": [
  {
   "cell_type": "code",
   "execution_count": null,
   "metadata": {},
   "outputs": [],
   "source": []
  },
  {
   "cell_type": "code",
   "execution_count": 1,
   "metadata": {},
   "outputs": [],
   "source": [
    "from pdp_utils import *\n",
    "from tqdm import tqdm\n",
    "import time\n",
    "import random\n",
    "import numpy as np\n",
    "n = 10000\n",
    "\n",
    "def oneopt_operator_nborhood(cur_sol):\n",
    "    nbors = []\n",
    "    for i in range(len(cur_sol)):\n",
    "        currentlist = []\n",
    "        for j in range(len(cur_sol)):\n",
    "            insertable = cur_sol.copy()\n",
    "            item_to_insert = insertable[i]\n",
    "            insertable = insertable[:i] + insertable[i+1:]\n",
    "            insertable.insert(j, item_to_insert)\n",
    "            currentlist.append(insertable)\n",
    "        nbors = nbors + currentlist\n",
    "    return nbors\n",
    "\n",
    "def twoopt_operator_nborhood(cur_sol):\n",
    "    \n",
    "    nbors = []\n",
    "    for i in range(len(cur_sol)):\n",
    "        for j in range(len(cur_sol)):\n",
    "            insertable = cur_sol.copy()\n",
    "            i_val = insertable[i]\n",
    "            insertable[i] = insertable[j]\n",
    "            insertable[j] = i_val\n",
    "            nbors.append(insertable)\n",
    "    return nbors\n",
    "\n",
    "def threeopt_operator_nborhood(cur_sol):\n",
    "    nbors = []\n",
    "    for i in range(len(cur_sol)):\n",
    "        for j in range(len(cur_sol)):\n",
    "            for k in range(len(cur_sol)):\n",
    "                insertable = cur_sol.copy()\n",
    "                i_val = insertable[i]\n",
    "                j_val = insertable[j]\n",
    "                insertable[i] = insertable[k]\n",
    "                insertable[j] = i_val\n",
    "                insertable[k] = j_val\n",
    "                nbors.append(insertable)\n",
    "    return nbors\n",
    "\n",
    "def solution_sanity(sol):\n",
    "    \"\"\"Ensures that any given solution both picks up and delivers its assigned calls\"\"\"\n",
    "    currentcalls = []\n",
    "    for i in range(len(sol)):\n",
    "        if sol[i] == 0: \n",
    "            if len(currentcalls) > 0:\n",
    "                return False\n",
    "        else:\n",
    "            if sol[i] in currentcalls:\n",
    "                currentcalls.remove(sol[i])\n",
    "            else:\n",
    "                currentcalls.append(sol[i])\n",
    "    return True\n",
    "\n",
    "def rejected_calls_cost(sol, prob):\n",
    "    total = 0\n",
    "    sol.reverse()\n",
    "    for call in sol:\n",
    "        if call == 0:\n",
    "            return total\n",
    "        total += prob[\"Cargo\"][call - 1][3]\n",
    "    raise ValueError(\"Bad solution\")\n",
    "        \n",
    "    "
   ]
  },
  {
   "cell_type": "code",
   "execution_count": 22,
   "metadata": {},
   "outputs": [],
   "source": [
    "def localsearch(init_sol, operator, prob):\n",
    "    best_sol = init_sol\n",
    "    best_sol_cost = cost_function(best_sol, prob)\n",
    "    for i in tqdm(range(n)):\n",
    "        best_nbor = None\n",
    "        best_nbor_cost = float('inf')\n",
    "        nbors = operator(best_sol)\n",
    "        nbors = [nbor for nbor in nbors if solution_sanity(nbor)]\n",
    "        for nbor in nbors:\n",
    "            feasibility, c = feasibility_check(nbor, prob)\n",
    "            if feasibility:\n",
    "                nbor_cost = cost_function(nbor, prob) + rejected_calls_cost(nbor, prob)\n",
    "                if nbor_cost <= best_nbor_cost:\n",
    "                    best_nbor_cost = nbor_cost\n",
    "                    best_nbor = nbor\n",
    "        \n",
    "        if best_nbor is not None and best_sol_cost > best_nbor_cost:\n",
    "            best_sol = best_nbor\n",
    "            best_sol_cost = best_nbor_cost\n",
    "    return best_sol, best_sol_cost\n",
    "\n",
    "def annealing(init_sol, operator, prob):\n",
    "    best_sol = init_sol\n",
    "    best_sol_cost = cost_function(best_sol, prob)\n",
    "    delta_es = []\n",
    "    \n",
    "    for i in tqdm(range(100)):\n",
    "        best_nbor = None\n",
    "        best_nbor_cost = float('inf')\n",
    "        nbors = operator(best_sol)\n",
    "        nbors = [nbor for nbor in nbors if solution_sanity(nbor)]\n",
    "        for nbor in nbors:\n",
    "            feasibility, c = feasibility_check(nbor, prob)\n",
    "            if feasibility:\n",
    "                nbor_cost = cost_function(nbor, prob) + rejected_calls_cost(nbor, prob)\n",
    "                if nbor_cost < best_nbor_cost:\n",
    "                    best_nbor_cost = nbor_cost\n",
    "                    best_nbor = nbor\n",
    "                else:\n",
    "                    randval = random.random()\n",
    "                    if randval < 0.8:\n",
    "                        best_nbor_cost = nbor_cost\n",
    "                        best_nbor = nbor\n",
    "        \n",
    "        if best_nbor is not None:\n",
    "            delta_es.append(best_sol_cost - best_nbor_cost)\n",
    "            if best_sol_cost > best_nbor_cost:\n",
    "                best_sol = best_nbor\n",
    "                best_sol_cost = best_nbor_cost\n",
    "    T = (sum(delta_es) / len(delta_es)) / np.log(0.8)\n",
    "    alpha = np.sqrt(0.1 / T)\n",
    "    \n",
    "    for i in tqdm(range(n - 100)):\n",
    "        best_nbor = None\n",
    "        best_nbor_cost = float('inf')\n",
    "        nbors = operator(best_sol)\n",
    "        nbors = [nbor for nbor in nbors if solution_sanity(nbor)]\n",
    "        for nbor in nbors:\n",
    "            feasibility, c = feasibility_check(nbor, prob)\n",
    "            if feasibility:\n",
    "                nbor_cost = cost_function(nbor, prob) + rejected_calls_cost(nbor, prob)\n",
    "                if nbor_cost < best_nbor_cost:\n",
    "                    best_nbor_cost = nbor_cost\n",
    "                    best_nbor = nbor\n",
    "                else:\n",
    "                    delta_e = nbor_cost - best_nbor_cost\n",
    "                    randval = random.random()\n",
    "                    if randval < np.exp(-delta_e / T):\n",
    "                        best_nbor_cost = nbor_cost\n",
    "                        best_nbor = nbor\n",
    "        \n",
    "        if best_nbor is not None:\n",
    "            delta_es.append(best_sol_cost - best_nbor_cost)\n",
    "            if best_sol_cost > best_nbor_cost:\n",
    "                best_sol = best_nbor\n",
    "                best_sol_cost = best_nbor_cost\n",
    "        T = T * alpha\n",
    "\n",
    "        \n",
    "    return best_sol, best_sol_cost"
   ]
  },
  {
   "cell_type": "code",
   "execution_count": 25,
   "metadata": {},
   "outputs": [],
   "source": [
    "def run_problem(problem, initial_solution):\n",
    "    methods = [localsearch, annealing]\n",
    "    operators = [oneopt_operator_nborhood, twoopt_operator_nborhood, threeopt_operator_nborhood]\n",
    "    prob = load_problem(problem)\n",
    "    mtod = []\n",
    "    for method in methods:\n",
    "        oprtr = []\n",
    "        for operator in operators:\n",
    "            best_sol, best_sol_cost = method(initial_solution, operator, prob)\n",
    "            oprtr.append(best_sol, best_sol_cost)\n",
    "        mtod.append(oprtr)"
   ]
  },
  {
   "cell_type": "markdown",
   "metadata": {},
   "source": [
    "## C7V3"
   ]
  },
  {
   "cell_type": "code",
   "execution_count": 26,
   "metadata": {},
   "outputs": [
    {
     "name": "stderr",
     "output_type": "stream",
     "text": [
      " 13%|█▎        | 1301/10000 [00:34<03:49, 37.89it/s]\n"
     ]
    },
    {
     "ename": "KeyboardInterrupt",
     "evalue": "",
     "output_type": "error",
     "traceback": [
      "\u001b[0;31m---------------------------------------------------------------------------\u001b[0m",
      "\u001b[0;31mKeyboardInterrupt\u001b[0m                         Traceback (most recent call last)",
      "\u001b[0;32m<ipython-input-26-27715bfedba5>\u001b[0m in \u001b[0;36m<module>\u001b[0;34m\u001b[0m\n\u001b[0;32m----> 1\u001b[0;31m \u001b[0manalysis\u001b[0m \u001b[0;34m=\u001b[0m \u001b[0mrun_problem\u001b[0m\u001b[0;34m(\u001b[0m\u001b[0;34m'./Call_7_Vehicle_3.txt'\u001b[0m\u001b[0;34m,\u001b[0m \u001b[0;34m[\u001b[0m\u001b[0;36m7\u001b[0m\u001b[0;34m,\u001b[0m \u001b[0;36m7\u001b[0m\u001b[0;34m,\u001b[0m \u001b[0;36m0\u001b[0m\u001b[0;34m,\u001b[0m \u001b[0;36m3\u001b[0m\u001b[0;34m,\u001b[0m \u001b[0;36m3\u001b[0m\u001b[0;34m,\u001b[0m \u001b[0;36m0\u001b[0m\u001b[0;34m,\u001b[0m \u001b[0;36m1\u001b[0m\u001b[0;34m,\u001b[0m \u001b[0;36m5\u001b[0m\u001b[0;34m,\u001b[0m \u001b[0;36m5\u001b[0m\u001b[0;34m,\u001b[0m \u001b[0;36m1\u001b[0m\u001b[0;34m,\u001b[0m \u001b[0;36m0\u001b[0m\u001b[0;34m,\u001b[0m \u001b[0;36m6\u001b[0m\u001b[0;34m,\u001b[0m \u001b[0;36m4\u001b[0m\u001b[0;34m,\u001b[0m \u001b[0;36m2\u001b[0m\u001b[0;34m]\u001b[0m\u001b[0;34m)\u001b[0m\u001b[0;34m\u001b[0m\u001b[0;34m\u001b[0m\u001b[0m\n\u001b[0m\u001b[1;32m      2\u001b[0m \u001b[0mprint\u001b[0m\u001b[0;34m(\u001b[0m\u001b[0manalysis\u001b[0m\u001b[0;34m)\u001b[0m\u001b[0;34m\u001b[0m\u001b[0;34m\u001b[0m\u001b[0m\n",
      "\u001b[0;32m<ipython-input-25-3dd98916e27c>\u001b[0m in \u001b[0;36mrun_problem\u001b[0;34m(problem, initial_solution)\u001b[0m\n\u001b[1;32m      7\u001b[0m         \u001b[0moprtr\u001b[0m \u001b[0;34m=\u001b[0m \u001b[0;34m[\u001b[0m\u001b[0;34m]\u001b[0m\u001b[0;34m\u001b[0m\u001b[0;34m\u001b[0m\u001b[0m\n\u001b[1;32m      8\u001b[0m         \u001b[0;32mfor\u001b[0m \u001b[0moperator\u001b[0m \u001b[0;32min\u001b[0m \u001b[0moperators\u001b[0m\u001b[0;34m:\u001b[0m\u001b[0;34m\u001b[0m\u001b[0;34m\u001b[0m\u001b[0m\n\u001b[0;32m----> 9\u001b[0;31m             \u001b[0mbest_sol\u001b[0m\u001b[0;34m,\u001b[0m \u001b[0mbest_sol_cost\u001b[0m \u001b[0;34m=\u001b[0m \u001b[0mmethod\u001b[0m\u001b[0;34m(\u001b[0m\u001b[0minitial_solution\u001b[0m\u001b[0;34m,\u001b[0m \u001b[0moperator\u001b[0m\u001b[0;34m,\u001b[0m \u001b[0mprob\u001b[0m\u001b[0;34m)\u001b[0m\u001b[0;34m\u001b[0m\u001b[0;34m\u001b[0m\u001b[0m\n\u001b[0m\u001b[1;32m     10\u001b[0m             \u001b[0moprtr\u001b[0m\u001b[0;34m.\u001b[0m\u001b[0mappend\u001b[0m\u001b[0;34m(\u001b[0m\u001b[0mbest_sol\u001b[0m\u001b[0;34m,\u001b[0m \u001b[0mbest_sol_cost\u001b[0m\u001b[0;34m)\u001b[0m\u001b[0;34m\u001b[0m\u001b[0;34m\u001b[0m\u001b[0m\n\u001b[1;32m     11\u001b[0m         \u001b[0mmtod\u001b[0m\u001b[0;34m.\u001b[0m\u001b[0mappend\u001b[0m\u001b[0;34m(\u001b[0m\u001b[0moprtr\u001b[0m\u001b[0;34m)\u001b[0m\u001b[0;34m\u001b[0m\u001b[0;34m\u001b[0m\u001b[0m\n",
      "\u001b[0;32m<ipython-input-22-f548da0a74c2>\u001b[0m in \u001b[0;36mlocalsearch\u001b[0;34m(init_sol, operator, prob)\u001b[0m\n\u001b[1;32m      8\u001b[0m         \u001b[0mnbors\u001b[0m \u001b[0;34m=\u001b[0m \u001b[0;34m[\u001b[0m\u001b[0mnbor\u001b[0m \u001b[0;32mfor\u001b[0m \u001b[0mnbor\u001b[0m \u001b[0;32min\u001b[0m \u001b[0mnbors\u001b[0m \u001b[0;32mif\u001b[0m \u001b[0msolution_sanity\u001b[0m\u001b[0;34m(\u001b[0m\u001b[0mnbor\u001b[0m\u001b[0;34m)\u001b[0m\u001b[0;34m]\u001b[0m\u001b[0;34m\u001b[0m\u001b[0;34m\u001b[0m\u001b[0m\n\u001b[1;32m      9\u001b[0m         \u001b[0;32mfor\u001b[0m \u001b[0mnbor\u001b[0m \u001b[0;32min\u001b[0m \u001b[0mnbors\u001b[0m\u001b[0;34m:\u001b[0m\u001b[0;34m\u001b[0m\u001b[0;34m\u001b[0m\u001b[0m\n\u001b[0;32m---> 10\u001b[0;31m             \u001b[0mfeasibility\u001b[0m\u001b[0;34m,\u001b[0m \u001b[0mc\u001b[0m \u001b[0;34m=\u001b[0m \u001b[0mfeasibility_check\u001b[0m\u001b[0;34m(\u001b[0m\u001b[0mnbor\u001b[0m\u001b[0;34m,\u001b[0m \u001b[0mprob\u001b[0m\u001b[0;34m)\u001b[0m\u001b[0;34m\u001b[0m\u001b[0;34m\u001b[0m\u001b[0m\n\u001b[0m\u001b[1;32m     11\u001b[0m             \u001b[0;32mif\u001b[0m \u001b[0mfeasibility\u001b[0m\u001b[0;34m:\u001b[0m\u001b[0;34m\u001b[0m\u001b[0;34m\u001b[0m\u001b[0m\n\u001b[1;32m     12\u001b[0m                 \u001b[0mnbor_cost\u001b[0m \u001b[0;34m=\u001b[0m \u001b[0mcost_function\u001b[0m\u001b[0;34m(\u001b[0m\u001b[0mnbor\u001b[0m\u001b[0;34m,\u001b[0m \u001b[0mprob\u001b[0m\u001b[0;34m)\u001b[0m \u001b[0;34m+\u001b[0m \u001b[0mrejected_calls_cost\u001b[0m\u001b[0;34m(\u001b[0m\u001b[0mnbor\u001b[0m\u001b[0;34m,\u001b[0m \u001b[0mprob\u001b[0m\u001b[0;34m)\u001b[0m\u001b[0;34m\u001b[0m\u001b[0;34m\u001b[0m\u001b[0m\n",
      "\u001b[0;32m/Library/Frameworks/Python.framework/Versions/3.8/lib/python3.8/site-packages/pdp_utils-1.0.2-py3.8.egg/pdp_utils/Utils.py\u001b[0m in \u001b[0;36mfeasibility_check\u001b[0;34m(solution, problem)\u001b[0m\n\u001b[1;32m    167\u001b[0m                         \u001b[0mc\u001b[0m \u001b[0;34m=\u001b[0m \u001b[0;34m'Time window exceeded at call {}'\u001b[0m\u001b[0;34m.\u001b[0m\u001b[0mformat\u001b[0m\u001b[0;34m(\u001b[0m\u001b[0mj\u001b[0m\u001b[0;34m)\u001b[0m\u001b[0;34m\u001b[0m\u001b[0;34m\u001b[0m\u001b[0m\n\u001b[1;32m    168\u001b[0m                         \u001b[0;32mbreak\u001b[0m\u001b[0;34m\u001b[0m\u001b[0;34m\u001b[0m\u001b[0m\n\u001b[0;32m--> 169\u001b[0;31m                     \u001b[0mcurrentTime\u001b[0m \u001b[0;34m=\u001b[0m \u001b[0mArriveTime\u001b[0m\u001b[0;34m[\u001b[0m\u001b[0mj\u001b[0m\u001b[0;34m]\u001b[0m \u001b[0;34m+\u001b[0m \u001b[0mLU_Time\u001b[0m\u001b[0;34m[\u001b[0m\u001b[0mj\u001b[0m\u001b[0;34m]\u001b[0m\u001b[0;34m\u001b[0m\u001b[0;34m\u001b[0m\u001b[0m\n\u001b[0m\u001b[1;32m    170\u001b[0m \u001b[0;34m\u001b[0m\u001b[0m\n\u001b[1;32m    171\u001b[0m     \u001b[0;32mreturn\u001b[0m \u001b[0mfeasibility\u001b[0m\u001b[0;34m,\u001b[0m \u001b[0mc\u001b[0m\u001b[0;34m\u001b[0m\u001b[0;34m\u001b[0m\u001b[0m\n",
      "\u001b[0;31mKeyboardInterrupt\u001b[0m: "
     ]
    }
   ],
   "source": [
    "analysis = run_problem('./Call_7_Vehicle_3.txt', [7, 7, 0, 3, 3, 0, 1, 5, 5, 1, 0, 6, 4, 2])\n",
    "print(analysis)"
   ]
  },
  {
   "cell_type": "markdown",
   "metadata": {},
   "source": [
    "## C18V5"
   ]
  },
  {
   "cell_type": "code",
   "execution_count": null,
   "metadata": {},
   "outputs": [],
   "source": [
    "analysis = run_problem('./Call_7_Vehicle_3.txt', [7, 7, 0, 3, 3, 0, 1, 5, 5, 1, 0, 6, 4, 2])\n",
    "print(analysis)"
   ]
  },
  {
   "cell_type": "markdown",
   "metadata": {},
   "source": [
    "## C35V7"
   ]
  },
  {
   "cell_type": "code",
   "execution_count": null,
   "metadata": {},
   "outputs": [],
   "source": []
  },
  {
   "cell_type": "markdown",
   "metadata": {},
   "source": [
    "## C80V20"
   ]
  },
  {
   "cell_type": "code",
   "execution_count": null,
   "metadata": {},
   "outputs": [],
   "source": []
  },
  {
   "cell_type": "markdown",
   "metadata": {},
   "source": [
    "## C130V40"
   ]
  },
  {
   "cell_type": "code",
   "execution_count": null,
   "metadata": {},
   "outputs": [],
   "source": []
  },
  {
   "cell_type": "markdown",
   "metadata": {},
   "source": [
    "## C300V90"
   ]
  },
  {
   "cell_type": "code",
   "execution_count": null,
   "metadata": {},
   "outputs": [],
   "source": []
  },
  {
   "cell_type": "code",
   "execution_count": null,
   "metadata": {},
   "outputs": [],
   "source": []
  },
  {
   "cell_type": "code",
   "execution_count": null,
   "metadata": {},
   "outputs": [],
   "source": []
  },
  {
   "cell_type": "code",
   "execution_count": null,
   "metadata": {},
   "outputs": [],
   "source": []
  }
 ],
 "metadata": {
  "kernelspec": {
   "display_name": "Python 3 (ipykernel)",
   "language": "python",
   "name": "python3"
  },
  "language_info": {
   "codemirror_mode": {
    "name": "ipython",
    "version": 3
   },
   "file_extension": ".py",
   "mimetype": "text/x-python",
   "name": "python",
   "nbconvert_exporter": "python",
   "pygments_lexer": "ipython3",
   "version": "3.8.10"
  }
 },
 "nbformat": 4,
 "nbformat_minor": 4
}
