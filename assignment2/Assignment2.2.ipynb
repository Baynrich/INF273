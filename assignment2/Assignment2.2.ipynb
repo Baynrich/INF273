{
 "cells": [
  {
   "cell_type": "code",
   "execution_count": 2,
   "metadata": {},
   "outputs": [],
   "source": [
    "from pdp_utils import *\n",
    "import random\n",
    "import numpy as np\n",
    "import functools\n",
    "\n",
    "np.random.seed(20)\n",
    "\n",
    "def resolve_max_capacity(prob, vehicle_idx):\n",
    "    capacities = prob[\"VesselCapacity\"]\n",
    "    try:\n",
    "        return capacities[vehicle_idx]\n",
    "    # Index out of bounds: give dummy truck infinite capacity\n",
    "    except:\n",
    "        return float('inf')\n",
    "    \n",
    "def resolve_allowed_calls(prob, vehicle_idx):\n",
    "    allowed_calls_list = prob[\"VesselCargo\"]\n",
    "    try:\n",
    "        return allowed_calls_list[vehicle_idx]\n",
    "    # Index out of bounds, allow dummy truck all calls\n",
    "    except:\n",
    "        return np.array([1. for i in range(prob[\"n_calls\"])])\n",
    "\n",
    "    \n"
   ]
  },
  {
   "cell_type": "code",
   "execution_count": 7,
   "metadata": {},
   "outputs": [],
   "source": [
    "class Truck:\n",
    "    \n",
    "    def __init__(self, idx, max_capacity, allowed_calls):\n",
    "        self.idx = idx\n",
    "        self.max_capacity = max_capacity\n",
    "        self.allowed_calls = allowed_calls\n",
    "        self.actions = []\n",
    "        self.active = True\n",
    "        \n",
    "    def take_call(self, call_idx, prob):\n",
    "        self.actions.append(call_idx)\n",
    "        pass\n",
    "    \n",
    "    def resolve_complete_call_time(self, call_idx, prob):\n",
    "        return 0\n",
    "    \n",
    "    def resolve_complete_call_cost(self, call_idx, prob):\n",
    "        return 0\n",
    "    \n",
    "        "
   ]
  },
  {
   "cell_type": "code",
   "execution_count": 8,
   "metadata": {},
   "outputs": [],
   "source": [
    "def generate_trucks(prob):\n",
    "    trucks = []\n",
    "    for i in range(prob[\"n_vehicles\"]):\n",
    "        initial_call = np.random.choice(np.size(prob[\"Cargo\"], 0))\n",
    "        max_capacity = resolve_max_capacity(prob, i)\n",
    "        allowed_calls = resolve_allowed_calls(prob, i)    \n",
    "        truck = Truck(i, max_capacity, allowed_calls)\n",
    "        trucks.append(truck)\n",
    "    dummy_truck = Truck(prob[\"n_vehicles\"], float('inf'), np.array([1 for i in range(len(prob[\"VesselCargo\"][0]))]))\n",
    "    return trucks, dummy_truck"
   ]
  },
  {
   "cell_type": "code",
   "execution_count": 29,
   "metadata": {},
   "outputs": [],
   "source": [
    "def run_problem(problem):\n",
    "    prob_take_call = 0.5\n",
    "    prob_retire_truck = 0.1\n",
    "    prob = load_problem(problem)\n",
    "    cargos = prob[\"Cargo\"].copy()\n",
    "    trucks, dummy_truck = generate_trucks(prob)\n",
    "    available_trucks = trucks.copy()\n",
    "    rejected_calls_cost = 0\n",
    "    \n",
    "    # Distribute calls between trucks\n",
    "    while len(cargos) > 0:\n",
    "        to_select = np.random.choice(np.size(cargos, 0))\n",
    "        current_call = cargos[to_select]\n",
    "        call_idx = np.where(np.all(prob[\"Cargo\"] == current_call,axis=1))[0][0]\n",
    "        \n",
    "        # Assign selected call to random truck, with prob_take_call probability of rejecting it.\n",
    "        available_trucks = [truck for truck in available_trucks if truck.active]\n",
    "        take_call_value = random.random()\n",
    "        if(len(available_trucks) > 0 and take_call_value < prob_take_call):\n",
    "            # Some truck can make the call: Select random truck among available trucks.\n",
    "            truck = random.choice(available_trucks)\n",
    "            truck.take_call(call_idx, prob)\n",
    "        else:\n",
    "            # Do not take call - give call to dummy truck, increment cost of rejected calls\n",
    "            dummy_truck.take_call(call_idx, prob)\n",
    "            rejected_calls_cost += prob[\"Cargo\"][call_idx][3]\n",
    "\n",
    "        # Remove call from list of calls\n",
    "        cargos = np.delete(cargos, to_select, axis=0)\n",
    "        \n",
    "        # Give trucks chance to accept no more calls with probability prob_retire_truck\n",
    "        for truck in available_trucks:\n",
    "            retire_truck_value = random.random()\n",
    "            if(retire_truck_value < prob_retire_truck):\n",
    "                truck.active = False\n",
    "    \n",
    "    # Let trucks decide in which order calls should be resolved\n",
    "    for truck in (trucks):\n",
    "        calls = truck.actions.copy()\n",
    "        for call in calls:\n",
    "            c_idx = truck.actions.index(call) + 1\n",
    "            insert_idx = random.randint(c_idx, len(truck.actions))\n",
    "            truck.actions.insert(insert_idx, call)\n",
    "\n",
    "        \n",
    "    solution = functools.reduce(lambda acc, val: acc + [i + 1 for i in val.actions] + [0], trucks, [])\n",
    "    solution = solution + [i+1 for i in dummy_truck.actions]\n",
    "    feasiblity, c = feasibility_check(solution, prob)\n",
    "    sol_cost = cost_function(solution, prob) + rejected_calls_cost\n",
    "    return solution, sol_cost, feasiblity, c, prob\n",
    "    \n",
    "    "
   ]
  },
  {
   "cell_type": "markdown",
   "metadata": {},
   "source": [
    "## C7V3"
   ]
  },
  {
   "cell_type": "code",
   "execution_count": 38,
   "metadata": {},
   "outputs": [
    {
     "name": "stdout",
     "output_type": "stream",
     "text": [
      "[7, 7, 0, 3, 3, 0, 1, 5, 5, 1, 0, 6, 4, 2]\n",
      "init_cost 3510572.0\n",
      "best_cost 2292765.5\n",
      "avg_cost 550934.8786213786\n",
      "improvement 34.689688745879586\n",
      "elapsed time 22.394913911819458\n"
     ]
    }
   ],
   "source": [
    "import time\n",
    "n = 1000\n",
    "\n",
    "start_time = time.time()\n",
    "\n",
    "c7v3_init_sol, c7v3_init_cost, feasibility, c, init_prob = [], float('inf'), False, '', None\n",
    "c7v3_best_sol = c7v3_init_sol\n",
    "c7v3_best_cost = c7v3_init_cost\n",
    "c7v3_total_cost = c7v3_init_cost\n",
    "# Force start with feasible solution\n",
    "while(not feasibility):\n",
    "    c7v3_init_sol, c7v3_init_cost, feasibility, c, init_prob = run_problem('./Call_7_Vehicle_3.txt')\n",
    "    c7v3_best_sol = c7v3_init_sol\n",
    "    c7v3_best_cost = c7v3_init_cost\n",
    "    c7v3_total_cost = c7v3_init_cost\n",
    "\n",
    "for i in range(n):\n",
    "    solution, sol_cost, feasibility, c, prob = run_problem('./Call_7_Vehicle_3.txt')\n",
    "    if(feasibility):\n",
    "        c7v3_total_cost += sol_cost\n",
    "        if(sol_cost < c7v3_best_cost):\n",
    "            c7v3_best_sol = solution\n",
    "            c7v3_best_cost = sol_cost\n",
    "end_time = time.time()\n",
    "\n",
    "c7v3_avg_cost = c7v3_total_cost / (n+1)\n",
    "print(c7v3_best_sol)\n",
    "print('init_cost', c7v3_init_cost)\n",
    "print('best_cost', c7v3_best_cost)\n",
    "print('avg_cost', c7v3_avg_cost)\n",
    "print('improvement', ((c7v3_init_cost - c7v3_best_cost) / c7v3_init_cost)*100)\n",
    "print('elapsed time', end_time - start_time)\n"
   ]
  },
  {
   "cell_type": "markdown",
   "metadata": {},
   "source": [
    "## C18V5"
   ]
  },
  {
   "cell_type": "code",
   "execution_count": 42,
   "metadata": {},
   "outputs": [
    {
     "name": "stdout",
     "output_type": "stream",
     "text": [
      "[0, 18, 18, 0, 14, 14, 0, 0, 0, 5, 9, 7, 13, 6, 11, 16, 8, 10, 4, 1, 17, 2, 15, 3, 12]\n",
      "init_cost 4261270.0\n",
      "best_cost 4261270.0\n",
      "avg_cost 221589.5114885115\n",
      "improvement 0.0\n",
      "elapsed time 43.51043629646301\n"
     ]
    }
   ],
   "source": [
    "\n",
    "start_time = time.time()\n",
    "c18v5_init_sol, c18v5_init_cost, feasibility, c, prob = run_problem('./Call_18_Vehicle_5.txt')\n",
    "c18v5_init_cost = cost_function(c18v5_init_sol, prob)\n",
    "c18v5_best_sol = c18v5_init_sol\n",
    "c18v5_best_cost = c18v5_init_cost\n",
    "c18v5_total_cost = c18v5_init_cost\n",
    "\n",
    "# Force start with feasible solution\n",
    "while(not feasibility):\n",
    "    c18v5_init_sol, c18v5_init_cost, feasibility, c, prob = run_problem('./Call_18_Vehicle_5.txt')\n",
    "    c18v5_init_cost = cost_function(c18v5_init_sol, prob)\n",
    "    c18v5_best_sol = c18v5_init_sol\n",
    "    c18v5_best_cost = c18v5_init_cost\n",
    "    c18v5_total_cost = c18v5_init_cost\n",
    "\n",
    "for i in range(n):\n",
    "    solution, sol_cost, feasibility, c, prob = run_problem('./Call_18_Vehicle_5.txt')\n",
    "    if feasibility:\n",
    "        c18v5_total_cost += sol_cost\n",
    "        if(sol_cost < c18v5_best_cost):\n",
    "            c18v5_best_sol = solution\n",
    "            c18v5_best_cost = sol_cost\n",
    "end_time = time.time()\n",
    "\n",
    "c18v5_avg_cost = c18v5_total_cost / (n+1)\n",
    "print(c18v5_best_sol)\n",
    "print('init_cost', c18v5_init_cost)\n",
    "print('best_cost', c18v5_best_cost)\n",
    "print('avg_cost', c18v5_avg_cost)\n",
    "print('improvement', ((c18v5_init_cost - c18v5_best_cost) / c18v5_init_cost)*100)\n",
    "print('elapsed time', end_time - start_time)"
   ]
  },
  {
   "cell_type": "markdown",
   "metadata": {},
   "source": [
    "## C35V7 "
   ]
  },
  {
   "cell_type": "code",
   "execution_count": 7,
   "metadata": {},
   "outputs": [
    {
     "name": "stdout",
     "output_type": "stream",
     "text": [
      "[0, 0, 0, 31, 0, 0, 0, 0, 15, 19, 26, 32, 8, 1, 33, 5, 9, 20, 2, 34, 4, 21, 28, 3, 16, 13, 31, 7, 29, 30, 24, 14, 12, 6, 35, 25, 18, 23, 27, 17, 11, 10, 22]\n",
      "init_cost 9519498.0\n",
      "best_cost 9238809.0\n",
      "avg_cost 9538969.195304696\n",
      "improvement 2.948569346829003\n",
      "elapsed time 110.73691987991333\n"
     ]
    }
   ],
   "source": [
    "start_time = time.time()\n",
    "c35v7_init_sol, c35v7_init_cost, feasibility, c, prob = run_problem('./Call_35_Vehicle_7.txt')\n",
    "c35v7_init_cost = cost_function(c35v7_init_sol, prob)\n",
    "c35v7_best_sol = c35v7_init_sol\n",
    "c35v7_best_cost = c35v7_init_cost\n",
    "c35v7_total_cost = c35v7_init_cost\n",
    "\n",
    "# Force start with feasible solution\n",
    "while not feasibility:\n",
    "    c35v7_init_sol, c35v7_init_cost, feasibility, c, prob = run_problem('./Call_35_Vehicle_7.txt')\n",
    "    c35v7_init_cost = cost_function(c35v7_init_sol, prob)\n",
    "    c35v7_best_sol = c35v7_init_sol\n",
    "    c35v7_best_cost = c35v7_init_cost\n",
    "    c35v7_total_cost = c35v7_init_cost\n",
    "    \n",
    "for i in range(n):\n",
    "    solution, sol_cost, feasibility, c, prob = run_problem('./Call_35_Vehicle_7.txt')\n",
    "    if feasibility:\n",
    "        c35v7_total_cost += sol_cost\n",
    "        if(sol_cost < c35v7_best_cost):\n",
    "            c35v7_best_sol = solution\n",
    "            c35v7_best_cost = sol_cost\n",
    "end_time = time.time()\n",
    "\n",
    "c35v7_avg_cost = c35v7_total_cost / (n+1)\n",
    "print(c35v7_best_sol)\n",
    "print('init_cost', c35v7_init_cost)\n",
    "print('best_cost', c35v7_best_cost)\n",
    "print('avg_cost', c35v7_avg_cost)\n",
    "print('improvement', ((c35v7_init_cost - c35v7_best_cost) / c35v7_init_cost)*100)\n",
    "print('elapsed time', end_time - start_time)"
   ]
  },
  {
   "cell_type": "markdown",
   "metadata": {},
   "source": [
    "## C80V20"
   ]
  },
  {
   "cell_type": "code",
   "execution_count": 8,
   "metadata": {},
   "outputs": [
    {
     "name": "stdout",
     "output_type": "stream",
     "text": [
      "[0, 0, 0, 0, 0, 0, 0, 39, 0, 0, 0, 0, 0, 0, 0, 0, 0, 0, 0, 0, 0, 15, 61, 76, 70, 7, 37, 36, 66, 12, 27, 64, 40, 41, 13, 47, 23, 32, 5, 19, 55, 56, 43, 38, 4, 78, 21, 63, 45, 9, 16, 22, 51, 3, 73, 79, 39, 57, 20, 75, 1, 31, 29, 25, 11, 26, 62, 72, 14, 60, 2, 59, 35, 67, 42, 8, 48, 34, 52, 10, 46, 33, 69, 30, 6, 58, 53, 28, 65, 68, 71, 17, 18, 80, 74, 77, 24, 49, 54, 50, 44]\n",
      "init_cost 23564622.0\n",
      "best_cost 23418242.0\n",
      "avg_cost 23949009.984515484\n",
      "improvement 0.6211854363715233\n",
      "elapsed time 321.04793190956116\n"
     ]
    }
   ],
   "source": [
    "start_time = time.time()\n",
    "c80v20_init_sol, c80v20_init_cost, feasibility, c, prob = run_problem('./Call_80_Vehicle_20.txt')\n",
    "c80v20_init_cost = cost_function(c80v20_init_sol, prob)\n",
    "c80v20_best_sol = c80v20_init_sol\n",
    "c80v20_best_cost = c80v20_init_cost\n",
    "c80v20_total_cost = c80v20_init_cost\n",
    "while not f:\n",
    "    c80v20_init_sol, c80v20_init_cost, feasibility, c, prob = run_problem('./Call_80_Vehicle_20.txt')\n",
    "    c80v20_init_cost = cost_function(c80v20_init_sol, prob)\n",
    "    c80v20_best_sol = c80v20_init_sol\n",
    "    c80v20_best_cost = c80v20_init_cost\n",
    "    c80v20_total_cost = c80v20_init_cost\n",
    "    \n",
    "for i in range(n):\n",
    "    solution, sol_cost, feasibility, c, prob = run_problem('./Call_80_Vehicle_20.txt')\n",
    "    if feasibility:\n",
    "        c80v20_total_cost += sol_cost\n",
    "        if(sol_cost < c80v20_best_cost):\n",
    "            c80v20_best_sol = solution\n",
    "            c80v20_best_cost = sol_cost\n",
    "end_time = time.time()\n",
    "\n",
    "c80v20_avg_cost = c80v20_total_cost / (n+1)\n",
    "print(c80v20_best_sol)\n",
    "print('init_cost', c80v20_init_cost)\n",
    "print('best_cost', c80v20_best_cost)\n",
    "print('avg_cost', c80v20_avg_cost)\n",
    "print('improvement', ((c80v20_init_cost - c80v20_best_cost) / c80v20_init_cost)*100)\n",
    "print('elapsed time', end_time - start_time)"
   ]
  },
  {
   "cell_type": "markdown",
   "metadata": {},
   "source": [
    "## C130V40"
   ]
  },
  {
   "cell_type": "code",
   "execution_count": null,
   "metadata": {},
   "outputs": [],
   "source": [
    "start_time = time.time()\n",
    "c130v40_init_sol, c130v40_init_cost, feasibility, c, prob = run_problem('./Call_130_Vehicle_40.txt')\n",
    "c130v40_init_cost = cost_function(c130v40_init_sol, prob)\n",
    "c130v40_best_sol = c130v40_init_sol\n",
    "c130v40_best_cost = c130v40_init_cost\n",
    "c130v40_total_cost = c130v40_init_cost\n",
    "while not feasibility:\n",
    "    c130v40_init_sol, c130v40_init_cost, feasibility, c, prob = run_problem('./Call_130_Vehicle_40.txt')\n",
    "    c130v40_init_cost = cost_function(c130v40_init_sol, prob)\n",
    "    c130v40_best_sol = c130v40_init_sol\n",
    "    c130v40_best_cost = c130v40_init_cost\n",
    "    c130v40_total_cost = c130v40_init_cost\n",
    "    \n",
    "for i in range(n):\n",
    "    solution, sol_cost feasibility, c, prob = run_problem('./Call_130_Vehicle_40.txt')\n",
    "    if feasibility:\n",
    "        c130v40_total_cost += sol_cost\n",
    "        if(sol_cost < c130v40_best_cost):\n",
    "            c130v40_best_sol = solution\n",
    "            c130v40_best_cost = sol_cost\n",
    "end_time = time.time()\n",
    "\n",
    "c130v40_avg_cost = c130v40_total_cost / (n+1)\n",
    "print(c130v40_best_sol)\n",
    "print('init_cost', c130v40_init_cost)\n",
    "print('best_cost', c130v40_best_cost)\n",
    "print('avg_cost', c130v40_avg_cost)\n",
    "print('improvement', ((c130v40_init_cost - c130v40_best_cost) / c130v40_init_cost)*100)\n",
    "print('elapsed time', end_time - start_time)"
   ]
  },
  {
   "cell_type": "markdown",
   "metadata": {},
   "source": [
    "## C300V90"
   ]
  },
  {
   "cell_type": "code",
   "execution_count": null,
   "metadata": {},
   "outputs": [],
   "source": [
    "start_time = time.time()\n",
    "c300v90_init_sol, c300v90_init_cost, feasibility, c, prob = run_problem('./Call_300_Vehicle_90.txt')\n",
    "c300v90_best_sol = c300v90_init_sol\n",
    "c300v90_best_cost = c300v90_init_cost\n",
    "c300v90_total_cost = c300v90_init_cost\n",
    "while not feasibility:\n",
    "    c300v90_init_sol, c300v90_init_cost, feasibility, c, prob = run_problem('./Call_300_Vehicle_90.txt')\n",
    "    c300v90_best_sol = c300v90_init_sol\n",
    "    c300v90_best_cost = c300v90_init_cost\n",
    "    c300v90_total_cost = c300v90_init_cost\n",
    "    \n",
    "for i in range(n):\n",
    "    solution, sol_cost, feasibility, c, prob = run_problem('./Call_300_Vehicle_90.txt')\n",
    "    if feasibility:\n",
    "        c300v90_total_cost += sol_cost\n",
    "        if(sol_cost < c300v90_best_cost):\n",
    "            c300v90_best_sol = solution\n",
    "            c300v90_best_cost = sol_cost\n",
    "end_time = time.time()\n",
    "\n",
    "c300v90_avg_cost = c300v90_total_cost / (n+1)\n",
    "print(c300v90_best_sol)\n",
    "print('init_cost', c300v90_init_cost)\n",
    "print('best_cost', c300v90_best_cost)\n",
    "print('avg_cost', c300v90_avg_cost)\n",
    "print('improvement', ((c300v90_init_cost - c300v90_best_cost) / c300v90_init_cost)*100)\n",
    "print('elapsed time', end_time - start_time)"
   ]
  },
  {
   "cell_type": "code",
   "execution_count": null,
   "metadata": {},
   "outputs": [],
   "source": []
  },
  {
   "cell_type": "code",
   "execution_count": null,
   "metadata": {},
   "outputs": [],
   "source": []
  },
  {
   "cell_type": "code",
   "execution_count": null,
   "metadata": {},
   "outputs": [],
   "source": []
  },
  {
   "cell_type": "code",
   "execution_count": null,
   "metadata": {},
   "outputs": [],
   "source": []
  }
 ],
 "metadata": {
  "kernelspec": {
   "display_name": "Python 3",
   "language": "python",
   "name": "python3"
  },
  "language_info": {
   "codemirror_mode": {
    "name": "ipython",
    "version": 3
   },
   "file_extension": ".py",
   "mimetype": "text/x-python",
   "name": "python",
   "nbconvert_exporter": "python",
   "pygments_lexer": "ipython3",
   "version": "3.8.2"
  }
 },
 "nbformat": 4,
 "nbformat_minor": 4
}
