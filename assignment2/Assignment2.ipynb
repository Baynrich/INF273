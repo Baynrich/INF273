{
 "cells": [
  {
   "cell_type": "code",
   "execution_count": 7,
   "metadata": {
    "scrolled": true
   },
   "outputs": [
    {
     "name": "stdout",
     "output_type": "stream",
     "text": [
      "dict_keys(['n_nodes', 'n_vehicles', 'n_calls', 'Cargo', 'TravelTime', 'FirstTravelTime', 'VesselCapacity', 'LoadingTime', 'UnloadingTime', 'VesselCargo', 'TravelCost', 'FirstTravelCost', 'PortCost'])\n",
      "[[0. 1. 1. 1. 1. 0. 1.]\n",
      " [0. 1. 1. 0. 1. 0. 1.]\n",
      " [1. 1. 1. 0. 1. 1. 1.]]\n"
     ]
    }
   ],
   "source": [
    "from pdp_utils import *\n",
    "prob = load_problem('./Call_7_Vehicle_3.txt')\n",
    "print(prob.keys())\n"
   ]
  },
  {
   "cell_type": "markdown",
   "metadata": {},
   "source": [
    "Pull random call from prob[\"Cargo\"]. \n",
    "\n",
    "Assign call to random vehicle.\n",
    "\n",
    "Vehicle turns up late to destination: solution is valid but infeasible."
   ]
  },
  {
   "cell_type": "code",
   "execution_count": 3,
   "metadata": {},
   "outputs": [
    {
     "name": "stdout",
     "output_type": "stream",
     "text": [
      "Time window exceeded at call 1\n"
     ]
    }
   ],
   "source": [
    "import random\n",
    "import functools\n",
    "\n",
    "def forward():\n",
    "\n",
    "    vehicle_carry = np.zeros(prob[\"n_vehicles\"] + 1)\n",
    "    vehicle_time = np.zeros(prob[\"n_vehicles\"] + 1)\n",
    "    vehicle_cost = np.zeros(prob[\"n_vehicles\"] + 1)\n",
    "    vehicle_pos = np.zeros(prob[\"n_vehicles\"] + 1)\n",
    "\n",
    "    vehicle_actions = [[-1] for i in range(int(prob[\"n_vehicles\"]) + 1)]\n",
    "    active_vehicles = [True for i in range(int(prob[\"n_vehicles\"]))]\n",
    "\n",
    "    np.random.seed(0)\n",
    "    n_vehicles = prob[\"n_vehicles\"]\n",
    "    cargos = prob[\"Cargo\"].copy()\n",
    "    max_time = np.max(cargos, axis=0)[7]\n",
    "\n",
    "    while np.size(cargos, 0) > 0:\n",
    "\n",
    "        # Draw random cargo from unanswered pile\n",
    "        to_select = np.random.choice(np.size(cargos, 0))\n",
    "        current_cargo = cargos[to_select]\n",
    "        cargos = np.delete(cargos, to_select, axis=0)\n",
    "        true_idx = np.where(np.all(prob[\"Cargo\"] == current_cargo,axis=1))[0][0]\n",
    "\n",
    "        # Draw random vehicle that has not reached end of schedule.\n",
    "        cand_v = [i for i, x in enumerate(zip(active_vehicles, prob[\"VesselCargo\"])) if x[0] and x[1][true_idx] == 1.0]\n",
    "        v_idx = np.random.choice(cand_v)    \n",
    "\n",
    "        #Add to vehicle time from previous location to current location, adjust for waiting.\n",
    "        vehicle_time[v_idx] = max(prob[\"FirstTravelTime\"][v_idx][int(current_cargo[0])], current_cargo[4]) if vehicle_time[v_idx] == 0 else vehicle_time[v_idx] + max(prob[\"TravelTime\"][v_idx][int(vehicle_pos[v_idx])][int(current_cargo[1])], current_cargo[4])\n",
    "\n",
    "        # If vehicle is past max time, give cargo to dummy and deactivate vehicle. \n",
    "        if vehicle_time[v_idx] >= current_cargo[7]:\n",
    "            active_vehicles[v_idx] = False\n",
    "            v_idx = int(prob[\"n_vehicles\"])\n",
    "            vehicle_actions[v_idx].append(true_idx)\n",
    "            vehicle_cost[v_idx] += current_cargo[3]\n",
    "            continue\n",
    "        # Add cost for driving from old cargo end to new cargo start\n",
    "        # Currently adds wrong index as indexes are shifted when items are removed\n",
    "\n",
    "        vehicle_actions[v_idx].append(true_idx)\n",
    "        vehicle_cost[v_idx] = prob[\"FirstTravelCost\"][v_idx][int(current_cargo[0])] if vehicle_time[v_idx] == 0 else vehicle_cost[v_idx] + prob[\"TravelCost\"][v_idx][int(vehicle_pos[v_idx])][int(current_cargo[1])]\n",
    "        # Update vehicle position, payload.\n",
    "        vehicle_pos[v_idx] = current_cargo[0]\n",
    "        vehicle_carry[v_idx] += current_cargo[2]\n",
    "\n",
    "        # Add time for driving from cargo start to cargo end\n",
    "        vehicle_time[v_idx] = max(vehicle_time[v_idx] + prob[\"TravelTime\"][v_idx][int(vehicle_pos[v_idx])][int(current_cargo[1])], current_cargo[6])\n",
    "        # Add cost for driving from cargo start to cargo end\n",
    "        vehicle_cost[v_idx] += prob[\"TravelCost\"][v_idx][int(vehicle_pos[v_idx])][int(current_cargo[1])]\n",
    "        # Remove carry weight as we are dropping off what we picked up\n",
    "        vehicle_carry[v_idx] -= current_cargo[2]\n",
    "\n",
    "    solution = [[y + 1 for y in x if y >= 0] for x in vehicle_actions]\n",
    "    solution = functools.reduce(lambda acc, cur: acc + cur + [0], solution, [])\n",
    "    feasiblity, c = feasibility_check(solution, prob)\n",
    "    return solution, feasiblity, c, vehicle_cost\n",
    "sol, feas, c, v_cos = forward()\n",
    "print(c)\n",
    "\n",
    "        \n"
   ]
  },
  {
   "cell_type": "code",
   "execution_count": 41,
   "metadata": {},
   "outputs": [
    {
     "name": "stdout",
     "output_type": "stream",
     "text": [
      "best cost 922192.0\n",
      "avg cost  922201.22192\n",
      "% feasible: 0.0\n",
      "Time elapsed 81.60944485664368\n"
     ]
    }
   ],
   "source": [
    "import time\n",
    "\n",
    "start = time.time()\n",
    "init_solution, init_feasibility, init_c, init_vehicle_cost = forward()\n",
    "best_solution = init_solution\n",
    "best_cost = np.sum(init_vehicle_cost)\n",
    "total_cost = best_cost\n",
    "feasibles = 0\n",
    "for i in range(10):\n",
    "    for epoch in range(10000):\n",
    "        solution, feasibility, c, vehicle_cost = forward()\n",
    "        cost = np.sum(vehicle_cost)\n",
    "        total_cost += cost\n",
    "        if feasibility and cost < best_cost:\n",
    "            feasibles += 1\n",
    "            best_cost = cost\n",
    "            best_solution = solution\n",
    "avg_cost = total_cost / 100000\n",
    "print(\"best cost\", best_cost)\n",
    "print(\"avg cost \", avg_cost) \n",
    "print(\"% feasible:\", (feasibles / 100000))\n",
    "\n",
    "end = time.time()\n",
    "print(\"Time elapsed\", (end - start))      "
   ]
  },
  {
   "cell_type": "code",
   "execution_count": 42,
   "metadata": {},
   "outputs": [
    {
     "name": "stdout",
     "output_type": "stream",
     "text": [
      "0\n"
     ]
    }
   ],
   "source": [
    "print(feasibles)"
   ]
  },
  {
   "cell_type": "code",
   "execution_count": null,
   "metadata": {},
   "outputs": [],
   "source": []
  }
 ],
 "metadata": {
  "kernelspec": {
   "display_name": "Python 3",
   "language": "python",
   "name": "python3"
  },
  "language_info": {
   "codemirror_mode": {
    "name": "ipython",
    "version": 3
   },
   "file_extension": ".py",
   "mimetype": "text/x-python",
   "name": "python",
   "nbconvert_exporter": "python",
   "pygments_lexer": "ipython3",
   "version": "3.8.2"
  }
 },
 "nbformat": 4,
 "nbformat_minor": 4
}
