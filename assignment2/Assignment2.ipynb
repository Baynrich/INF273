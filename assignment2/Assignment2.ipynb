{
 "cells": [
  {
   "cell_type": "code",
   "execution_count": 183,
   "metadata": {
    "scrolled": true
   },
   "outputs": [
    {
     "name": "stdout",
     "output_type": "stream",
     "text": [
      "dict_keys(['n_nodes', 'n_vehicles', 'n_calls', 'Cargo', 'TravelTime', 'FirstTravelTime', 'VesselCapacity', 'LoadingTime', 'UnloadingTime', 'VesselCargo', 'TravelCost', 'FirstTravelCost', 'PortCost'])\n"
     ]
    }
   ],
   "source": [
    "from pdp_utils import *\n",
    "prob = load_problem('./Call_7_Vehicle_3.txt')\n",
    "print(prob.keys())"
   ]
  },
  {
   "cell_type": "markdown",
   "metadata": {},
   "source": [
    "Pull random call from prob[\"Cargo\"]. \n",
    "\n",
    "Assign call to random vehicle.\n",
    "\n",
    "Vehicle turns up late to destination: solution is valid but infeasible."
   ]
  },
  {
   "cell_type": "code",
   "execution_count": 184,
   "metadata": {},
   "outputs": [
    {
     "name": "stdout",
     "output_type": "stream",
     "text": [
      "[6, 7, 0, 5, 3, 0, 1, 2, 4, 0]\n",
      "[[0. 1. 1. 1. 1. 0. 1.]\n",
      " [0. 1. 1. 0. 1. 0. 1.]\n",
      " [1. 1. 1. 0. 1. 1. 1.]]\n",
      "False\n",
      "incompatible vessel and cargo\n"
     ]
    }
   ],
   "source": [
    "import random\n",
    "import functools\n",
    "\n",
    "vehicle_carry = np.zeros(prob[\"n_vehicles\"] + 1)\n",
    "vehicle_time = np.zeros(prob[\"n_vehicles\"] + 1)\n",
    "vehicle_cost = np.zeros(prob[\"n_vehicles\"] + 1)\n",
    "vehicle_pos = np.zeros(prob[\"n_vehicles\"] + 1)\n",
    "\n",
    "vehicle_actions = [[-1] for i in range(int(prob[\"n_vehicles\"]))]\n",
    "active_vehicles = [True for i in range(int(prob[\"n_vehicles\"]))]\n",
    "\n",
    "np.random.seed(0)\n",
    "n_vehicles = prob[\"n_vehicles\"]\n",
    "cargos = prob[\"Cargo\"].copy()\n",
    "max_time = np.max(cargos, axis=0)[7]\n",
    "\n",
    "while np.size(cargos, 0) > 0:\n",
    "\n",
    "    # Draw random cargo from unanswered pile\n",
    "    to_select = np.random.choice(np.size(cargos, 0))\n",
    "    current_cargo = cargos[to_select]\n",
    "    cargos = np.delete(cargos, to_select, axis=0)\n",
    "    \n",
    "    # Draw random vehicle that has not reached end of schedule.\n",
    "    v_idx = np.random.choice([i for i, x in enumerate(zip(active_vehicles, prob[\"VesselCargo\"])) if x[0] and x[1][to_select] == 1])    \n",
    "    \n",
    "    #Add to vehicle time from previous location to current location, adjust for waiting.\n",
    "    vehicle_time[v_idx] = max(prob[\"FirstTravelTime\"][v_idx][int(current_cargo[0])], current_cargo[4]) if vehicle_time[v_idx] == 0 else vehicle_time[v_idx] + max(prob[\"TravelTime\"][v_idx][int(vehicle_pos[v_idx])][int(current_cargo[1])], current_cargo[4])\n",
    "\n",
    "    # If vehicle is past max time, give cargo to dummy and deactivate vehicle\n",
    "    if vehicle_time[v_idx] >= max_time:\n",
    "        active_vehicles[v_idx] = False\n",
    "        v_idx = int(prob[\"n_vehicles\"])\n",
    "    # Add cost for driving from old cargo end to new cargo start\n",
    "    # Currently adds wrong index as indexes are shifted when items are removed\n",
    "    true_idx = np.where(np.all(prob[\"Cargo\"] == current_cargo,axis=1))[0][0]\n",
    "    vehicle_actions[v_idx].append(true_idx)\n",
    "    vehicle_cost[v_idx] = prob[\"FirstTravelCost\"][v_idx][int(current_cargo[0])] if vehicle_time[v_idx] == 0 else vehicle_cost[v_idx] + prob[\"TravelCost\"][v_idx][int(vehicle_pos[v_idx])][int(current_cargo[1])]\n",
    "    # Update vehicle position, payload.\n",
    "    vehicle_pos[v_idx] = current_cargo[0]\n",
    "    vehicle_carry[v_idx] += current_cargo[2]\n",
    "    \n",
    "    # Add time for driving from cargo start to cargo end\n",
    "    vehicle_time[v_idx] = max(vehicle_time[v_idx] + prob[\"TravelTime\"][v_idx][int(vehicle_pos[v_idx])][int(current_cargo[1])], current_cargo[6])\n",
    "    # Add cost for driving from cargo start to cargo end\n",
    "    vehicle_cost[v_idx] += prob[\"TravelCost\"][v_idx][int(vehicle_pos[v_idx])][int(current_cargo[1])]\n",
    "    # Remove carry weight as we are dropping off what we picked up\n",
    "    vehicle_carry[v_idx] -= current_cargo[2]\n",
    "\n",
    "solution = [[y + 1 for y in x if y >= 0] for x in vehicle_actions]\n",
    "solution = functools.reduce(lambda acc, cur: acc + cur + [0], solution, [])\n",
    "print(solution)    \n",
    "\n",
    "feasiblity, c = feasibility_check(solution, prob)\n",
    "print(prob[\"VesselCargo\"])\n",
    "print(feasiblity)\n",
    "print(c)\n",
    "\n",
    "\n",
    "\n"
   ]
  },
  {
   "cell_type": "code",
   "execution_count": null,
   "metadata": {},
   "outputs": [],
   "source": []
  }
 ],
 "metadata": {
  "kernelspec": {
   "display_name": "Python 3",
   "language": "python",
   "name": "python3"
  },
  "language_info": {
   "codemirror_mode": {
    "name": "ipython",
    "version": 3
   },
   "file_extension": ".py",
   "mimetype": "text/x-python",
   "name": "python",
   "nbconvert_exporter": "python",
   "pygments_lexer": "ipython3",
   "version": "3.8.2"
  }
 },
 "nbformat": 4,
 "nbformat_minor": 4
}
