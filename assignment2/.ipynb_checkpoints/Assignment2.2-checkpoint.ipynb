{
 "cells": [
  {
   "cell_type": "code",
   "execution_count": 4,
   "metadata": {},
   "outputs": [],
   "source": [
    "from pdp_utils import *\n",
    "import random\n",
    "import numpy as np\n",
    "import functools\n",
    "\n",
    "np.random.seed(20)\n",
    "\n",
    "def resolve_max_capacity(prob, vehicle_idx):\n",
    "    capacities = prob[\"VesselCapacity\"]\n",
    "    try:\n",
    "        return capacities[vehicle_idx]\n",
    "    # Index out of bounds: give dummy truck infinite capacity\n",
    "    except:\n",
    "        return float('inf')\n",
    "    \n",
    "def resolve_allowed_calls(prob, vehicle_idx):\n",
    "    allowed_calls_list = prob[\"VesselCargo\"]\n",
    "    try:\n",
    "        return allowed_calls_list[vehicle_idx]\n",
    "    # Index out of bounds, allow dummy truck all calls\n",
    "    except:\n",
    "        return np.array([1. for i in range(prob[\"n_calls\"])])\n",
    "\n",
    "    \n"
   ]
  },
  {
   "cell_type": "code",
   "execution_count": 5,
   "metadata": {},
   "outputs": [],
   "source": [
    "class Truck:\n",
    "    \n",
    "    def __init__(self, idx, max_capacity, allowed_calls):\n",
    "        self.idx = idx\n",
    "        self.max_capacity = max_capacity\n",
    "        self.allowed_calls = allowed_calls\n",
    "        self.position = -1\n",
    "        self.time = 0\n",
    "        self.carrying = 0\n",
    "        self.cost = 0\n",
    "        self.actions = []\n",
    "        \n",
    "    def take_call(self, call_idx, prob):\n",
    "        # Assume truck taking the call will pick up good and immediately drive to destination, \n",
    "        # not picking up another call on the way.\n",
    "        self.time = self.resolve_complete_call_time(call_idx, prob)\n",
    "        self.cost += self.resolve_complete_call_cost(call_idx, prob)\n",
    "        self.position = int(prob[\"Cargo\"][call_idx][1]) - 1\n",
    "        self.actions.append(call_idx)\n",
    "        pass\n",
    "    \n",
    "    def resolve_complete_call_time(self, call_idx, prob):\n",
    "        node_from = int(prob[\"Cargo\"][call_idx][0]) - 1\n",
    "        node_to = int(prob[\"Cargo\"][call_idx][1]) - 1\n",
    "        if self.time == 0:\n",
    "            time_to = prob[\"FirstTravelTime\"][self.idx][node_from]\n",
    "        else:\n",
    "            time_to = prob[\"TravelTime\"][self.idx][self.position][node_from]\n",
    "        time_to = max(self.time + time_to, prob[\"Cargo\"][call_idx][4])\n",
    "        time_to += prob[\"LoadingTime\"][self.idx][call_idx]\n",
    "        time_to += prob[\"TravelTime\"][self.idx][node_from][node_to]\n",
    "        time_to = max(self.time + time_to, prob[\"Cargo\"][call_idx][6])\n",
    "        time_to += prob[\"LoadingTime\"][self.idx][call_idx]\n",
    "        return time_to\n",
    "    \n",
    "    def resolve_complete_call_cost(self, call_idx, prob):\n",
    "        node_from = int(prob[\"Cargo\"][call_idx][0]) - 1\n",
    "        node_to = int(prob[\"Cargo\"][call_idx][1]) - 1\n",
    "        if self.cost == 0:\n",
    "            cost_to = prob[\"FirstTravelCost\"][self.idx][node_from]\n",
    "        else:\n",
    "            cost_to = prob[\"TravelCost\"][self.idx][self.position][node_from]\n",
    "        cost_from = prob[\"TravelCost\"][self.idx][node_from][node_to]\n",
    "        return cost_to + cost_from\n",
    "    \n",
    "    def reject_call(self, call_idx, prob):\n",
    "        self.actions.append(call_idx)\n",
    "        # Add cost of not transporting\n",
    "        self.cost += prob[\"Cargo\"][call_idx][3]\n",
    "        "
   ]
  },
  {
   "cell_type": "code",
   "execution_count": 6,
   "metadata": {},
   "outputs": [],
   "source": [
    "def generate_trucks(prob):\n",
    "    trucks = []\n",
    "    for i in range(prob[\"n_vehicles\"]):\n",
    "        initial_call = np.random.choice(np.size(prob[\"Cargo\"], 0))\n",
    "        max_capacity = resolve_max_capacity(prob, i)\n",
    "        allowed_calls = resolve_allowed_calls(prob, i)    \n",
    "        truck = Truck(i, max_capacity, allowed_calls)\n",
    "        trucks.append(truck)\n",
    "    dummy_truck = Truck(prob[\"n_vehicles\"], float('inf'), np.array([1 for i in range(len(prob[\"VesselCargo\"][0]))]))\n",
    "    return trucks, dummy_truck"
   ]
  },
  {
   "cell_type": "code",
   "execution_count": 11,
   "metadata": {},
   "outputs": [],
   "source": [
    "def run_problem(problem):\n",
    "    prob = load_problem(problem)\n",
    "    cargos = prob[\"Cargo\"].copy()\n",
    "    trucks, dummy_truck = generate_trucks(prob)\n",
    "    available_trucks = trucks.copy()\n",
    "    while len(cargos) > 0:\n",
    "        to_select = np.random.choice(np.size(cargos, 0))\n",
    "        current_call = cargos[to_select]\n",
    "        call_idx = np.where(np.all(prob[\"Cargo\"] == current_call,axis=1))[0][0]\n",
    "\n",
    "        # Filter trucks not allowed to take call\n",
    "        available_trucks = [truck for truck in available_trucks \\\n",
    "                                if truck.allowed_calls[call_idx] == 1]\n",
    "        # Filter trucks where time elapsed is too great\n",
    "        available_trucks = [truck for truck in available_trucks \\\n",
    "                                if truck.time + truck.resolve_complete_call_time(call_idx, prob) < current_call[7] ]\n",
    "        # Filter trucks where capacity is not sufficient\n",
    "        available_trucks = [truck for truck in available_trucks \\\n",
    "                                if truck.max_capacity > current_call[2]]\n",
    "\n",
    "        # If no trucks can make call, remove call from list and continue\n",
    "        if len(available_trucks) < 1:\n",
    "            dummy_truck.reject_call(call_idx, prob)\n",
    "            cargos = np.delete(cargos, to_select, axis=0)\n",
    "            continue\n",
    "\n",
    "        # Some truck can make the call: Select random truck among available trucks.\n",
    "        truck = random.choice(available_trucks)\n",
    "        truck.take_call(call_idx, prob)\n",
    "        \n",
    "    solution = functools.reduce(lambda acc, val: acc + [i + 1 for i in val.actions] + [0], trucks, [])\n",
    "    solution = solution + [i+1 for i in dummy_truck.actions]\n",
    "    feasiblity, c = feasibility_check(solution, prob)\n",
    "    sol_cost = cost_function(solution, prob)\n",
    "    sol_cost += dummy_truck.cost\n",
    "    return solution, sol_cost, feasiblity, c, prob\n",
    "    \n",
    "    "
   ]
  },
  {
   "cell_type": "markdown",
   "metadata": {},
   "source": [
    "## C7V3"
   ]
  },
  {
   "cell_type": "code",
   "execution_count": 12,
   "metadata": {},
   "outputs": [
    {
     "name": "stdout",
     "output_type": "stream",
     "text": [
      "[0, 0, 3, 0, 1, 6, 5, 7, 2, 3, 4]\n",
      "init_cost 1894907.0\n",
      "best_cost 4912253.5\n",
      "avg_cost 5017408.517982018\n",
      "improvement 4.38495565575066\n",
      "elapsed time 29.289937257766724\n"
     ]
    }
   ],
   "source": [
    "import time\n",
    "n = 1000\n",
    "\n",
    "start_time = time.time()\n",
    "c7v3_init_sol, c7v3_init_cost, feasibility, c, prob = run_problem('./Call_7_Vehicle_3.txt')\n",
    "c7v3_best_sol = c7v3_init_sol\n",
    "c7v3_best_cost = c7v3_init_cost\n",
    "c7v3_total_cost = c7v3_init_cost\n",
    "for i in range(n):\n",
    "    solution, sol_cost, feasibility, c, prob = run_problem('./Call_7_Vehicle_3.txt')\n",
    "    c7v3_total_cost += sol_cost\n",
    "    if(sol_cost < c7v3_best_cost):\n",
    "        c7v3_best_sol = solution\n",
    "        c7v3_best_cost = sol_cost\n",
    "end_time = time.time()\n",
    "\n",
    "c7v3_avg_cost = c7v3_total_cost / (n+1)\n",
    "print(c7v3_best_sol)\n",
    "print('init_cost', cost_function(c7v3_init_sol, prob))\n",
    "print('best_cost', c7v3_best_cost)\n",
    "print('avg_cost', c7v3_avg_cost)\n",
    "print('improvement', ((c7v3_init_cost - c7v3_best_cost) / c7v3_init_cost)*100)\n",
    "print('elapsed time', end_time - start_time)"
   ]
  },
  {
   "cell_type": "markdown",
   "metadata": {},
   "source": [
    "## C18V5"
   ]
  },
  {
   "cell_type": "code",
   "execution_count": 6,
   "metadata": {},
   "outputs": [
    {
     "name": "stdout",
     "output_type": "stream",
     "text": [
      "[0, 14, 0, 9, 0, 0, 0, 6, 7, 10, 17, 14, 12, 3, 2, 15, 11, 13, 5, 8, 16, 1, 4, 18, 9]\n",
      "init_cost 4588857.5\n",
      "best_cost 4549663.0\n",
      "avg_cost 4691028.043956044\n",
      "improvement 0.8541232757826975\n",
      "elapsed time 73.36163568496704\n"
     ]
    }
   ],
   "source": [
    "\n",
    "start_time = time.time()\n",
    "c18v5_init_sol, feasibility, c, prob = run_problem('./Call_18_Vehicle_5.txt')\n",
    "c18v5_init_cost = cost_function(c18v5_init_sol, prob)\n",
    "c18v5_best_sol = c18v5_init_sol\n",
    "c18v5_best_cost = c18v5_init_cost\n",
    "c18v5_total_cost = c18v5_init_cost\n",
    "for i in range(n):\n",
    "    solution, feasibility, c, prob = run_problem('./Call_18_Vehicle_5.txt')\n",
    "    sol_cost = cost_function(solution, prob)\n",
    "    c18v5_total_cost += sol_cost\n",
    "    if(sol_cost < c18v5_best_cost):\n",
    "        c18v5_best_sol = solution\n",
    "        c18v5_best_cost = sol_cost\n",
    "end_time = time.time()\n",
    "\n",
    "c18v5_avg_cost = c18v5_total_cost / (n+1)\n",
    "print(c18v5_best_sol)\n",
    "print('init_cost', cost_function(c18v5_init_sol, prob))\n",
    "print('best_cost', c18v5_best_cost)\n",
    "print('avg_cost', c18v5_avg_cost)\n",
    "print('improvement', ((c18v5_init_cost - c18v5_best_cost) / c18v5_init_cost)*100)\n",
    "print('elapsed time', end_time - start_time)"
   ]
  },
  {
   "cell_type": "markdown",
   "metadata": {},
   "source": [
    "## C35V7 "
   ]
  },
  {
   "cell_type": "code",
   "execution_count": 7,
   "metadata": {},
   "outputs": [
    {
     "name": "stdout",
     "output_type": "stream",
     "text": [
      "[0, 0, 0, 31, 0, 0, 0, 0, 15, 19, 26, 32, 8, 1, 33, 5, 9, 20, 2, 34, 4, 21, 28, 3, 16, 13, 31, 7, 29, 30, 24, 14, 12, 6, 35, 25, 18, 23, 27, 17, 11, 10, 22]\n",
      "init_cost 9519498.0\n",
      "best_cost 9238809.0\n",
      "avg_cost 9538969.195304696\n",
      "improvement 2.948569346829003\n",
      "elapsed time 110.73691987991333\n"
     ]
    }
   ],
   "source": [
    "start_time = time.time()\n",
    "c35v7_init_sol, feasibility, c, prob = run_problem('./Call_35_Vehicle_7.txt')\n",
    "c35v7_init_cost = cost_function(c35v7_init_sol, prob)\n",
    "c35v7_best_sol = c35v7_init_sol\n",
    "c35v7_best_cost = c35v7_init_cost\n",
    "c35v7_total_cost = c35v7_init_cost\n",
    "for i in range(n):\n",
    "    solution, feasibility, c, prob = run_problem('./Call_35_Vehicle_7.txt')\n",
    "    sol_cost = cost_function(solution, prob)\n",
    "    c35v7_total_cost += sol_cost\n",
    "    if(sol_cost < c35v7_best_cost):\n",
    "        c35v7_best_sol = solution\n",
    "        c35v7_best_cost = sol_cost\n",
    "end_time = time.time()\n",
    "\n",
    "c35v7_avg_cost = c35v7_total_cost / (n+1)\n",
    "print(c35v7_best_sol)\n",
    "print('init_cost', cost_function(c35v7_init_sol, prob))\n",
    "print('best_cost', c35v7_best_cost)\n",
    "print('avg_cost', c35v7_avg_cost)\n",
    "print('improvement', ((c35v7_init_cost - c35v7_best_cost) / c35v7_init_cost)*100)\n",
    "print('elapsed time', end_time - start_time)"
   ]
  },
  {
   "cell_type": "markdown",
   "metadata": {},
   "source": [
    "## C80V20"
   ]
  },
  {
   "cell_type": "code",
   "execution_count": 8,
   "metadata": {},
   "outputs": [
    {
     "name": "stdout",
     "output_type": "stream",
     "text": [
      "[0, 0, 0, 0, 0, 0, 0, 39, 0, 0, 0, 0, 0, 0, 0, 0, 0, 0, 0, 0, 0, 15, 61, 76, 70, 7, 37, 36, 66, 12, 27, 64, 40, 41, 13, 47, 23, 32, 5, 19, 55, 56, 43, 38, 4, 78, 21, 63, 45, 9, 16, 22, 51, 3, 73, 79, 39, 57, 20, 75, 1, 31, 29, 25, 11, 26, 62, 72, 14, 60, 2, 59, 35, 67, 42, 8, 48, 34, 52, 10, 46, 33, 69, 30, 6, 58, 53, 28, 65, 68, 71, 17, 18, 80, 74, 77, 24, 49, 54, 50, 44]\n",
      "init_cost 23564622.0\n",
      "best_cost 23418242.0\n",
      "avg_cost 23949009.984515484\n",
      "improvement 0.6211854363715233\n",
      "elapsed time 321.04793190956116\n"
     ]
    }
   ],
   "source": [
    "start_time = time.time()\n",
    "c80v20_init_sol, feasibility, c, prob = run_problem('./Call_80_Vehicle_20.txt')\n",
    "c80v20_init_cost = cost_function(c80v20_init_sol, prob)\n",
    "c80v20_best_sol = c80v20_init_sol\n",
    "c80v20_best_cost = c80v20_init_cost\n",
    "c80v20_total_cost = c80v20_init_cost\n",
    "for i in range(n):\n",
    "    solution, feasibility, c, prob = run_problem('./Call_80_Vehicle_20.txt')\n",
    "    sol_cost = cost_function(solution, prob)\n",
    "    c80v20_total_cost += sol_cost\n",
    "    if(sol_cost < c80v20_best_cost):\n",
    "        c80v20_best_sol = solution\n",
    "        c80v20_best_cost = sol_cost\n",
    "end_time = time.time()\n",
    "\n",
    "c80v20_avg_cost = c80v20_total_cost / (n+1)\n",
    "print(c80v20_best_sol)\n",
    "print('init_cost', cost_function(c80v20_init_sol, prob))\n",
    "print('best_cost', c80v20_best_cost)\n",
    "print('avg_cost', c80v20_avg_cost)\n",
    "print('improvement', ((c80v20_init_cost - c80v20_best_cost) / c80v20_init_cost)*100)\n",
    "print('elapsed time', end_time - start_time)"
   ]
  },
  {
   "cell_type": "markdown",
   "metadata": {},
   "source": [
    "## C130V40"
   ]
  },
  {
   "cell_type": "code",
   "execution_count": 9,
   "metadata": {},
   "outputs": [
    {
     "name": "stdout",
     "output_type": "stream",
     "text": [
      "[0, 0, 0, 0, 0, 0, 0, 0, 0, 0, 0, 0, 0, 0, 0, 0, 0, 0, 0, 0, 0, 0, 0, 0, 0, 3, 0, 0, 0, 0, 0, 0, 0, 0, 0, 0, 0, 0, 0, 0, 0, 6, 83, 128, 15, 129, 77, 26, 46, 109, 25, 100, 8, 64, 24, 114, 68, 48, 60, 65, 117, 91, 122, 52, 76, 63, 130, 123, 113, 112, 11, 108, 80, 69, 95, 70, 55, 13, 110, 72, 43, 119, 30, 67, 73, 124, 23, 1, 5, 38, 28, 126, 42, 29, 102, 9, 71, 105, 40, 87, 92, 41, 31, 111, 20, 58, 44, 33, 121, 107, 2, 81, 79, 49, 14, 27, 54, 36, 127, 66, 86, 16, 3, 116, 75, 74, 82, 94, 7, 12, 45, 35, 78, 118, 51, 57, 104, 59, 120, 106, 61, 62, 37, 56, 98, 125, 84, 22, 10, 101, 96, 89, 85, 53, 32, 21, 115, 50, 19, 47, 99, 18, 39, 93, 34, 88, 103, 97, 17, 4, 90]\n",
      "init_cost 38750276.0\n",
      "best_cost 38351512.5\n",
      "avg_cost 39141372.615384616\n",
      "improvement 1.029059767213013\n",
      "elapsed time 501.14965081214905\n"
     ]
    }
   ],
   "source": [
    "start_time = time.time()\n",
    "c130v40_init_sol, feasibility, c, prob = run_problem('./Call_130_Vehicle_40.txt')\n",
    "c130v40_init_cost = cost_function(c130v40_init_sol, prob)\n",
    "c130v40_best_sol = c130v40_init_sol\n",
    "c130v40_best_cost = c130v40_init_cost\n",
    "c130v40_total_cost = c130v40_init_cost\n",
    "for i in range(n):\n",
    "    solution, feasibility, c, prob = run_problem('./Call_130_Vehicle_40.txt')\n",
    "    sol_cost = cost_function(solution, prob)\n",
    "    c130v40_total_cost += sol_cost\n",
    "    if(sol_cost < c130v40_best_cost):\n",
    "        c130v40_best_sol = solution\n",
    "        c130v40_best_cost = sol_cost\n",
    "end_time = time.time()\n",
    "\n",
    "c130v40_avg_cost = c130v40_total_cost / (n+1)\n",
    "print(c130v40_best_sol)\n",
    "print('init_cost', cost_function(c130v40_init_sol, prob))\n",
    "print('best_cost', c130v40_best_cost)\n",
    "print('avg_cost', c130v40_avg_cost)\n",
    "print('improvement', ((c130v40_init_cost - c130v40_best_cost) / c130v40_init_cost)*100)\n",
    "print('elapsed time', end_time - start_time)"
   ]
  },
  {
   "cell_type": "markdown",
   "metadata": {},
   "source": [
    "## C300V90"
   ]
  },
  {
   "cell_type": "code",
   "execution_count": 10,
   "metadata": {},
   "outputs": [
    {
     "name": "stdout",
     "output_type": "stream",
     "text": [
      "[0, 0, 0, 0, 0, 0, 0, 0, 0, 0, 0, 0, 0, 0, 0, 0, 0, 0, 0, 0, 0, 0, 0, 0, 0, 0, 0, 0, 0, 0, 0, 0, 0, 0, 0, 0, 0, 0, 0, 0, 0, 0, 0, 0, 0, 0, 0, 0, 0, 0, 0, 0, 0, 0, 0, 0, 0, 0, 0, 0, 0, 0, 0, 0, 299, 0, 0, 0, 0, 0, 0, 0, 0, 0, 0, 0, 0, 0, 0, 0, 0, 0, 0, 0, 0, 0, 0, 0, 0, 0, 0, 117, 71, 9, 291, 14, 215, 191, 282, 248, 98, 222, 198, 195, 251, 96, 113, 230, 15, 32, 262, 101, 142, 122, 25, 217, 164, 18, 42, 104, 161, 288, 134, 287, 181, 157, 35, 237, 54, 148, 296, 38, 131, 48, 174, 12, 267, 70, 19, 252, 285, 254, 231, 160, 173, 193, 95, 270, 218, 146, 112, 17, 225, 118, 39, 265, 214, 30, 79, 202, 10, 108, 247, 220, 284, 295, 178, 241, 29, 56, 13, 58, 163, 126, 283, 249, 239, 147, 176, 120, 201, 281, 59, 158, 11, 63, 119, 141, 280, 55, 200, 127, 294, 103, 128, 236, 110, 92, 232, 204, 62, 172, 278, 153, 61, 109, 188, 289, 69, 263, 180, 219, 145, 260, 243, 130, 177, 139, 275, 298, 212, 150, 8, 2, 185, 169, 149, 26, 64, 187, 213, 258, 50, 46, 23, 83, 78, 125, 162, 166, 221, 167, 123, 165, 28, 208, 65, 114, 250, 91, 203, 81, 86, 27, 286, 182, 168, 197, 242, 116, 234, 211, 24, 266, 67, 246, 75, 82, 152, 72, 97, 253, 136, 7, 276, 138, 183, 299, 199, 22, 60, 272, 74, 34, 223, 20, 186, 44, 297, 261, 43, 143, 107, 210, 88, 196, 245, 175, 207, 274, 156, 105, 93, 106, 264, 84, 205, 240, 36, 179, 16, 41, 31, 155, 51, 133, 47, 235, 190, 21, 115, 269, 194, 68, 89, 1, 3, 271, 189, 292, 6, 52, 135, 76, 229, 90, 170, 137, 171, 100, 256, 268, 290, 40, 129, 293, 77, 238, 66, 154, 4, 87, 151, 227, 80, 244, 228, 144, 53, 255, 233, 159, 45, 184, 73, 279, 216, 273, 49, 140, 132, 99, 277, 85, 300, 102, 209, 94, 226, 206, 5, 257, 224, 37, 124, 121, 33, 111, 259, 192, 57]\n",
      "init_cost 86366036.5\n",
      "best_cost 85421814.0\n",
      "avg_cost 86370894.16983017\n",
      "improvement 1.0932798797592151\n",
      "elapsed time 1361.3182990550995\n"
     ]
    }
   ],
   "source": [
    "start_time = time.time()\n",
    "c300v90_init_sol, feasibility, c, prob = run_problem('./Call_300_Vehicle_90.txt')\n",
    "c300v90_init_cost = cost_function(c300v90_init_sol, prob)\n",
    "c300v90_best_sol = c300v90_init_sol\n",
    "c300v90_best_cost = c300v90_init_cost\n",
    "c300v90_total_cost = c300v90_init_cost\n",
    "for i in range(n):\n",
    "    solution, feasibility, c, prob = run_problem('./Call_300_Vehicle_90.txt')\n",
    "    sol_cost = cost_function(solution, prob)\n",
    "    c300v90_total_cost += sol_cost\n",
    "    if(sol_cost < c300v90_best_cost):\n",
    "        c300v90_best_sol = solution\n",
    "        c300v90_best_cost = sol_cost\n",
    "end_time = time.time()\n",
    "\n",
    "c300v90_avg_cost = c300v90_total_cost / (n+1)\n",
    "print(c300v90_best_sol)\n",
    "print('init_cost', cost_function(c300v90_init_sol, prob))\n",
    "print('best_cost', c300v90_best_cost)\n",
    "print('avg_cost', c300v90_avg_cost)\n",
    "print('improvement', ((c300v90_init_cost - c300v90_best_cost) / c300v90_init_cost)*100)\n",
    "print('elapsed time', end_time - start_time)"
   ]
  },
  {
   "cell_type": "code",
   "execution_count": null,
   "metadata": {},
   "outputs": [],
   "source": []
  },
  {
   "cell_type": "code",
   "execution_count": null,
   "metadata": {},
   "outputs": [],
   "source": []
  },
  {
   "cell_type": "code",
   "execution_count": 1,
   "metadata": {},
   "outputs": [
    {
     "ename": "NameError",
     "evalue": "name 'dummy_truck' is not defined",
     "output_type": "error",
     "traceback": [
      "\u001b[0;31m---------------------------------------------------------------------------\u001b[0m",
      "\u001b[0;31mNameError\u001b[0m                                 Traceback (most recent call last)",
      "\u001b[0;32m<ipython-input-1-6ee3e8ec90d9>\u001b[0m in \u001b[0;36m<module>\u001b[0;34m\u001b[0m\n\u001b[0;32m----> 1\u001b[0;31m \u001b[0mprint\u001b[0m\u001b[0;34m(\u001b[0m\u001b[0mdummy_truck\u001b[0m\u001b[0;34m)\u001b[0m\u001b[0;34m\u001b[0m\u001b[0;34m\u001b[0m\u001b[0m\n\u001b[0m",
      "\u001b[0;31mNameError\u001b[0m: name 'dummy_truck' is not defined"
     ]
    }
   ],
   "source": [
    "print(dummy_truck)"
   ]
  },
  {
   "cell_type": "code",
   "execution_count": null,
   "metadata": {},
   "outputs": [],
   "source": []
  }
 ],
 "metadata": {
  "kernelspec": {
   "display_name": "Python 3",
   "language": "python",
   "name": "python3"
  },
  "language_info": {
   "codemirror_mode": {
    "name": "ipython",
    "version": 3
   },
   "file_extension": ".py",
   "mimetype": "text/x-python",
   "name": "python",
   "nbconvert_exporter": "python",
   "pygments_lexer": "ipython3",
   "version": "3.8.2"
  }
 },
 "nbformat": 4,
 "nbformat_minor": 4
}
