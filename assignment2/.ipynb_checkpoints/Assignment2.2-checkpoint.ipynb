{
 "cells": [
  {
   "cell_type": "code",
   "execution_count": 1,
   "metadata": {},
   "outputs": [],
   "source": [
    "from pdp_utils import *\n",
    "import random\n",
    "import numpy as np\n",
    "import functools\n",
    "import time\n",
    "n = 1000\n",
    "\n",
    "np.random.seed(20)\n",
    "\n",
    "def resolve_max_capacity(prob, vehicle_idx):\n",
    "    capacities = prob[\"VesselCapacity\"]\n",
    "    try:\n",
    "        return capacities[vehicle_idx]\n",
    "    # Index out of bounds: give dummy truck infinite capacity\n",
    "    except:\n",
    "        return float('inf')\n",
    "    \n",
    "def resolve_allowed_calls(prob, vehicle_idx):\n",
    "    allowed_calls_list = prob[\"VesselCargo\"]\n",
    "    try:\n",
    "        return allowed_calls_list[vehicle_idx]\n",
    "    # Index out of bounds, allow dummy truck all calls\n",
    "    except:\n",
    "        return np.array([1. for i in range(prob[\"n_calls\"])])\n",
    "\n",
    "    \n"
   ]
  },
  {
   "cell_type": "code",
   "execution_count": 2,
   "metadata": {},
   "outputs": [],
   "source": [
    "class Truck:\n",
    "    \n",
    "    def __init__(self, idx, max_capacity, allowed_calls):\n",
    "        self.idx = idx\n",
    "        self.max_capacity = max_capacity\n",
    "        self.allowed_calls = allowed_calls\n",
    "        self.actions = []\n",
    "        self.active = True\n",
    "        \n",
    "    def take_call(self, call_idx, prob):\n",
    "        self.actions.append(call_idx)\n",
    "        pass\n",
    "    \n",
    "    def resolve_complete_call_time(self, call_idx, prob):\n",
    "        return 0\n",
    "    \n",
    "    def resolve_complete_call_cost(self, call_idx, prob):\n",
    "        return 0\n",
    "    \n",
    "        "
   ]
  },
  {
   "cell_type": "code",
   "execution_count": 3,
   "metadata": {},
   "outputs": [],
   "source": [
    "def generate_trucks(prob):\n",
    "    trucks = []\n",
    "    for i in range(prob[\"n_vehicles\"]):\n",
    "        initial_call = np.random.choice(np.size(prob[\"Cargo\"], 0))\n",
    "        max_capacity = resolve_max_capacity(prob, i)\n",
    "        allowed_calls = resolve_allowed_calls(prob, i)    \n",
    "        truck = Truck(i, max_capacity, allowed_calls)\n",
    "        trucks.append(truck)\n",
    "    dummy_truck = Truck(prob[\"n_vehicles\"], float('inf'), np.array([1 for i in range(len(prob[\"VesselCargo\"][0]))]))\n",
    "    return trucks, dummy_truck"
   ]
  },
  {
   "cell_type": "code",
   "execution_count": 4,
   "metadata": {},
   "outputs": [],
   "source": [
    "def run_problem(problem):\n",
    "    prob_take_call = 0.5\n",
    "    prob_retire_truck = 0.1\n",
    "    prob = load_problem(problem)\n",
    "    cargos = prob[\"Cargo\"].copy()\n",
    "    trucks, dummy_truck = generate_trucks(prob)\n",
    "    available_trucks = trucks.copy()\n",
    "    \n",
    "    # Distribute calls between trucks\n",
    "    while len(cargos) > 0:\n",
    "        to_select = np.random.choice(np.size(cargos, 0))\n",
    "        current_call = cargos[to_select]\n",
    "        call_idx = np.where(np.all(prob[\"Cargo\"] == current_call,axis=1))[0][0]\n",
    "        \n",
    "        # Assign selected call to random truck, with prob_take_call probability of rejecting it.\n",
    "        available_trucks = [truck for truck in available_trucks if truck.active]\n",
    "        take_call_value = random.random()\n",
    "        if(len(available_trucks) > 0 and take_call_value < prob_take_call):\n",
    "            # Some truck can make the call: Select random truck among available trucks.\n",
    "            truck = random.choice(available_trucks)\n",
    "            truck.take_call(call_idx, prob)\n",
    "        else:\n",
    "            # Do not take call - give call to dummy truck, increment cost of rejected calls\n",
    "            dummy_truck.take_call(call_idx, prob)\n",
    "            dummy_truck.take_call(call_idx, prob)\n",
    "\n",
    "        # Remove call from list of calls\n",
    "        cargos = np.delete(cargos, to_select, axis=0)\n",
    "        \n",
    "        # Give trucks chance to accept no more calls with probability prob_retire_truck\n",
    "        for truck in available_trucks:\n",
    "            retire_truck_value = random.random()\n",
    "            if(retire_truck_value < prob_retire_truck):\n",
    "                truck.active = False\n",
    "    \n",
    "    # Let trucks decide in which order calls should be resolved\n",
    "    for truck in (trucks):\n",
    "        calls = truck.actions.copy()\n",
    "        for call in calls:\n",
    "            c_idx = truck.actions.index(call) + 1\n",
    "            insert_idx = random.randint(c_idx, len(truck.actions))\n",
    "            truck.actions.insert(insert_idx, call)\n",
    "\n",
    "        \n",
    "    solution = functools.reduce(lambda acc, val: acc + [i + 1 for i in val.actions] + [0], trucks, [])\n",
    "    solution = solution + [i+1 for i in dummy_truck.actions]\n",
    "    feasiblity, c = feasibility_check(solution, prob)\n",
    "    sol_cost = cost_function(solution, prob)\n",
    "    return solution, sol_cost, feasiblity, c, prob\n",
    "    \n",
    "    "
   ]
  },
  {
   "cell_type": "markdown",
   "metadata": {},
   "source": [
    "## C7V3"
   ]
  },
  {
   "cell_type": "code",
   "execution_count": 5,
   "metadata": {},
   "outputs": [
    {
     "name": "stdout",
     "output_type": "stream",
     "text": [
      "[3, 3, 0, 0, 1, 5, 5, 7, 1, 7, 0, 4, 6, 2]\n",
      "init_cost 1581641.5\n",
      "best_cost 1263882.5\n",
      "avg_cost 1503649.204861111\n",
      "improvement 20.090456655316643\n",
      "elapsed time 19.975205898284912\n"
     ]
    }
   ],
   "source": [
    "\n",
    "\n",
    "start_time = time.time()\n",
    "\n",
    "c7v3_init_sol, c7v3_init_cost, feasibility, c, init_prob = [], float('inf'), False, '', None\n",
    "c7v3_best_sol = c7v3_init_sol\n",
    "c7v3_best_cost = c7v3_init_cost\n",
    "c7v3_total_cost = c7v3_init_cost\n",
    "# Force start with feasible solution\n",
    "while(not feasibility):\n",
    "    c7v3_init_sol, c7v3_init_cost, feasibility, c, init_prob = run_problem('./Call_7_Vehicle_3.txt')\n",
    "    c7v3_best_sol = c7v3_init_sol\n",
    "    c7v3_best_cost = c7v3_init_cost\n",
    "    c7v3_total_cost = c7v3_init_cost\n",
    "feasibles = 1\n",
    "for i in range(n):\n",
    "    solution, sol_cost, feasibility, c, prob = run_problem('./Call_7_Vehicle_3.txt')\n",
    "    if(feasibility):\n",
    "        feasibles += 1\n",
    "        c7v3_total_cost += sol_cost\n",
    "        if(sol_cost < c7v3_best_cost):\n",
    "            c7v3_best_sol = solution\n",
    "            c7v3_best_cost = sol_cost\n",
    "end_time = time.time()\n",
    "\n",
    "c7v3_avg_cost = c7v3_total_cost / feasibles\n",
    "print(c7v3_best_sol)\n",
    "print('init_cost', c7v3_init_cost)\n",
    "print('best_cost', c7v3_best_cost)\n",
    "print('avg_cost', c7v3_avg_cost)\n",
    "print('improvement', ((c7v3_init_cost - c7v3_best_cost) / c7v3_init_cost)*100)\n",
    "print('elapsed time', end_time - start_time)\n"
   ]
  },
  {
   "cell_type": "markdown",
   "metadata": {},
   "source": [
    "## C18V5"
   ]
  },
  {
   "cell_type": "code",
   "execution_count": 6,
   "metadata": {},
   "outputs": [
    {
     "name": "stdout",
     "output_type": "stream",
     "text": [
      "[0, 1, 17, 1, 17, 0, 0, 10, 10, 0, 14, 14, 0, 16, 4, 3, 7, 8, 15, 9, 12, 18, 2, 5, 11, 13, 6]\n",
      "init_cost 4113282.5\n",
      "best_cost 3868069.0\n",
      "avg_cost 4215237.354166667\n",
      "improvement 5.961503981309332\n",
      "elapsed time 33.99425196647644\n"
     ]
    }
   ],
   "source": [
    "\n",
    "start_time = time.time()\n",
    "c18v5_init_sol, c18v5_init_cost, feasibility, c, prob = run_problem('./Call_18_Vehicle_5.txt')\n",
    "c18v5_init_cost = cost_function(c18v5_init_sol, prob)\n",
    "c18v5_best_sol = c18v5_init_sol\n",
    "c18v5_best_cost = c18v5_init_cost\n",
    "c18v5_total_cost = c18v5_init_cost\n",
    "\n",
    "# Force start with feasible solution\n",
    "while(not feasibility):\n",
    "    c18v5_init_sol, c18v5_init_cost, feasibility, c, prob = run_problem('./Call_18_Vehicle_5.txt')\n",
    "    c18v5_init_cost = cost_function(c18v5_init_sol, prob)\n",
    "    c18v5_best_sol = c18v5_init_sol\n",
    "    c18v5_best_cost = c18v5_init_cost\n",
    "    c18v5_total_cost = c18v5_init_cost\n",
    "feasibles = 1\n",
    "for i in range(n):\n",
    "    solution, sol_cost, feasibility, c, prob = run_problem('./Call_18_Vehicle_5.txt')\n",
    "    if feasibility:\n",
    "        feasibles += 1\n",
    "        c18v5_total_cost += sol_cost\n",
    "        if(sol_cost < c18v5_best_cost):\n",
    "            c18v5_best_sol = solution\n",
    "            c18v5_best_cost = sol_cost\n",
    "end_time = time.time()\n",
    "\n",
    "c18v5_avg_cost = c18v5_total_cost / feasibles\n",
    "print(c18v5_best_sol)\n",
    "print('init_cost', c18v5_init_cost)\n",
    "print('best_cost', c18v5_best_cost)\n",
    "print('avg_cost', c18v5_avg_cost)\n",
    "print('improvement', ((c18v5_init_cost - c18v5_best_cost) / c18v5_init_cost)*100)\n",
    "print('elapsed time', end_time - start_time)"
   ]
  },
  {
   "cell_type": "markdown",
   "metadata": {},
   "source": [
    "## C35V7 "
   ]
  },
  {
   "cell_type": "code",
   "execution_count": 7,
   "metadata": {},
   "outputs": [
    {
     "name": "stdout",
     "output_type": "stream",
     "text": [
      "[20, 20, 0, 0, 2, 2, 0, 17, 17, 25, 25, 0, 1, 1, 0, 0, 0, 29, 8, 10, 12, 35, 11, 34, 21, 27, 5, 13, 7, 24, 31, 32, 26, 15, 9, 33, 30, 22, 14, 23, 6, 3, 19, 18, 16, 4, 28]\n",
      "init_cost 8954537.0\n",
      "best_cost 8812246.5\n",
      "avg_cost 8947660.423076924\n",
      "improvement 1.5890324647717688\n",
      "elapsed time 65.71808886528015\n"
     ]
    }
   ],
   "source": [
    "start_time = time.time()\n",
    "c35v7_init_sol, c35v7_init_cost, feasibility, c, prob = run_problem('./Call_35_Vehicle_7.txt')\n",
    "c35v7_init_cost = cost_function(c35v7_init_sol, prob)\n",
    "c35v7_best_sol = c35v7_init_sol\n",
    "c35v7_best_cost = c35v7_init_cost\n",
    "c35v7_total_cost = c35v7_init_cost\n",
    "\n",
    "# Force start with feasible solution\n",
    "while not feasibility:\n",
    "    c35v7_init_sol, c35v7_init_cost, feasibility, c, prob = run_problem('./Call_35_Vehicle_7.txt')\n",
    "    c35v7_init_cost = cost_function(c35v7_init_sol, prob)\n",
    "    c35v7_best_sol = c35v7_init_sol\n",
    "    c35v7_best_cost = c35v7_init_cost\n",
    "    c35v7_total_cost = c35v7_init_cost\n",
    "feasibles = 1\n",
    "for i in range(n):\n",
    "    solution, sol_cost, feasibility, c, prob = run_problem('./Call_35_Vehicle_7.txt')\n",
    "    if feasibility:\n",
    "        feasibles += 1\n",
    "        c35v7_total_cost += sol_cost\n",
    "        if(sol_cost < c35v7_best_cost):\n",
    "            c35v7_best_sol = solution\n",
    "            c35v7_best_cost = sol_cost\n",
    "end_time = time.time()\n",
    "\n",
    "c35v7_avg_cost = c35v7_total_cost / feasibles\n",
    "print(c35v7_best_sol)\n",
    "print('init_cost', c35v7_init_cost)\n",
    "print('best_cost', c35v7_best_cost)\n",
    "print('avg_cost', c35v7_avg_cost)\n",
    "print('improvement', ((c35v7_init_cost - c35v7_best_cost) / c35v7_init_cost)*100)\n",
    "print('elapsed time', end_time - start_time)"
   ]
  },
  {
   "cell_type": "markdown",
   "metadata": {},
   "source": [
    "## C80V20"
   ]
  },
  {
   "cell_type": "code",
   "execution_count": 8,
   "metadata": {},
   "outputs": [
    {
     "name": "stdout",
     "output_type": "stream",
     "text": [
      "[64, 64, 0, 0, 0, 0, 37, 37, 0, 10, 10, 0, 0, 0, 0, 0, 0, 0, 0, 33, 33, 0, 0, 0, 28, 28, 0, 0, 20, 20, 0, 0, 50, 52, 43, 16, 63, 5, 74, 71, 1, 38, 4, 27, 61, 11, 29, 7, 78, 39, 70, 60, 77, 14, 18, 12, 75, 23, 44, 59, 68, 24, 47, 30, 45, 54, 56, 53, 8, 21, 34, 17, 76, 49, 62, 79, 72, 80, 42, 55, 31, 58, 13, 19, 66, 15, 9, 35, 3, 36, 57, 73, 40, 2, 65, 48, 26, 25, 69, 51, 6, 22, 41, 67, 32, 46]\n",
      "init_cost 22849156.5\n",
      "best_cost 22849156.5\n",
      "avg_cost 22849156.5\n",
      "improvement 0.0\n",
      "elapsed time 313.3004159927368\n"
     ]
    }
   ],
   "source": [
    "start_time = time.time()\n",
    "c80v20_init_sol, c80v20_init_cost, feasibility, c, prob = run_problem('./Call_80_Vehicle_20.txt')\n",
    "c80v20_init_cost = cost_function(c80v20_init_sol, prob)\n",
    "c80v20_best_sol = c80v20_init_sol\n",
    "c80v20_best_cost = c80v20_init_cost\n",
    "c80v20_total_cost = c80v20_init_cost\n",
    "while not feasibility:\n",
    "    c80v20_init_sol, c80v20_init_cost, feasibility, c, prob = run_problem('./Call_80_Vehicle_20.txt')\n",
    "    c80v20_init_cost = cost_function(c80v20_init_sol, prob)\n",
    "    c80v20_best_sol = c80v20_init_sol\n",
    "    c80v20_best_cost = c80v20_init_cost\n",
    "    c80v20_total_cost = c80v20_init_cost\n",
    "feasibles = 1\n",
    "for i in range(n):\n",
    "    solution, sol_cost, feasibility, c, prob = run_problem('./Call_80_Vehicle_20.txt')\n",
    "    if feasibility:\n",
    "        feasibles += 1\n",
    "        c80v20_total_cost += sol_cost\n",
    "        if(sol_cost < c80v20_best_cost):\n",
    "            c80v20_best_sol = solution\n",
    "            c80v20_best_cost = sol_cost\n",
    "end_time = time.time()\n",
    "\n",
    "c80v20_avg_cost = c80v20_total_cost / feasibles\n",
    "print(c80v20_best_sol)\n",
    "print('init_cost', c80v20_init_cost)\n",
    "print('best_cost', c80v20_best_cost)\n",
    "print('avg_cost', c80v20_avg_cost)\n",
    "print('improvement', ((c80v20_init_cost - c80v20_best_cost) / c80v20_init_cost)*100)\n",
    "print('elapsed time', end_time - start_time)"
   ]
  },
  {
   "cell_type": "markdown",
   "metadata": {},
   "source": [
    "## C130V40"
   ]
  },
  {
   "cell_type": "code",
   "execution_count": null,
   "metadata": {},
   "outputs": [],
   "source": [
    "start_time = time.time()\n",
    "c130v40_init_sol, c130v40_init_cost, feasibility, c, prob = run_problem('./Call_130_Vehicle_40.txt')\n",
    "c130v40_init_cost = cost_function(c130v40_init_sol, prob)\n",
    "c130v40_best_sol = c130v40_init_sol\n",
    "c130v40_best_cost = c130v40_init_cost\n",
    "c130v40_total_cost = c130v40_init_cost\n",
    "while not feasibility:\n",
    "    c130v40_init_sol, c130v40_init_cost, feasibility, c, prob = run_problem('./Call_130_Vehicle_40.txt')\n",
    "    c130v40_init_cost = cost_function(c130v40_init_sol, prob)\n",
    "    c130v40_best_sol = c130v40_init_sol\n",
    "    c130v40_best_cost = c130v40_init_cost\n",
    "    c130v40_total_cost = c130v40_init_cost\n",
    "feasibles = 1\n",
    "for i in range(n):\n",
    "    solution, sol_cost, feasibility, c, prob = run_problem('./Call_130_Vehicle_40.txt')\n",
    "    if feasibility:\n",
    "        feasibles += 1\n",
    "        c130v40_total_cost += sol_cost\n",
    "        if(sol_cost < c130v40_best_cost):\n",
    "            c130v40_best_sol = solution\n",
    "            c130v40_best_cost = sol_cost\n",
    "end_time = time.time()\n",
    "\n",
    "c130v40_avg_cost = c130v40_total_cost / feasibles\n",
    "print(c130v40_best_sol)\n",
    "print('init_cost', c130v40_init_cost)\n",
    "print('best_cost', c130v40_best_cost)\n",
    "print('avg_cost', c130v40_avg_cost)\n",
    "print('improvement', ((c130v40_init_cost - c130v40_best_cost) / c130v40_init_cost)*100)\n",
    "print('elapsed time', end_time - start_time)"
   ]
  },
  {
   "cell_type": "markdown",
   "metadata": {},
   "source": [
    "## C300V90"
   ]
  },
  {
   "cell_type": "code",
   "execution_count": null,
   "metadata": {},
   "outputs": [],
   "source": [
    "from tqdm import tqdm\n",
    "\n",
    "start_time = time.time()\n",
    "c300v90_init_sol, c300v90_init_cost, feasibility, c, prob = run_problem('./Call_300_Vehicle_90.txt')\n",
    "c300v90_best_sol = c300v90_init_sol\n",
    "c300v90_best_cost = c300v90_init_cost\n",
    "c300v90_total_cost = c300v90_init_cost\n",
    "ctr = 0\n",
    "while not feasibility:\n",
    "    ctr += 1\n",
    "    if ctr % 10 == 0:\n",
    "        print(ctr)\n",
    "    c300v90_init_sol, c300v90_init_cost, feasibility, c, prob = run_problem('./Call_300_Vehicle_90.txt')\n",
    "    c300v90_best_sol = c300v90_init_sol\n",
    "    c300v90_best_cost = c300v90_init_cost\n",
    "    c300v90_total_cost = c300v90_init_cost\n",
    "feasibles = 1\n",
    "for i in tqdm(range(n)):\n",
    "    solution, sol_cost, feasibility, c, prob = run_problem('./Call_300_Vehicle_90.txt')\n",
    "    if feasibility:\n",
    "        feasibles += 1\n",
    "        c300v90_total_cost += sol_cost\n",
    "        if(sol_cost < c300v90_best_cost):\n",
    "            c300v90_best_sol = solution\n",
    "            c300v90_best_cost = sol_cost\n",
    "end_time = time.time()\n",
    "\n",
    "c300v90_avg_cost = c300v90_total_cost / feasibles\n",
    "print(c300v90_best_sol)\n",
    "print('init_cost', c300v90_init_cost)\n",
    "print('best_cost', c300v90_best_cost)\n",
    "print('avg_cost', c300v90_avg_cost)\n",
    "print('improvement', ((c300v90_init_cost - c300v90_best_cost) / c300v90_init_cost)*100)\n",
    "print('elapsed time', end_time - start_time)"
   ]
  },
  {
   "cell_type": "code",
   "execution_count": null,
   "metadata": {},
   "outputs": [],
   "source": []
  },
  {
   "cell_type": "code",
   "execution_count": null,
   "metadata": {},
   "outputs": [],
   "source": []
  },
  {
   "cell_type": "code",
   "execution_count": null,
   "metadata": {},
   "outputs": [],
   "source": []
  },
  {
   "cell_type": "code",
   "execution_count": null,
   "metadata": {},
   "outputs": [],
   "source": []
  }
 ],
 "metadata": {
  "kernelspec": {
   "display_name": "Python 3",
   "language": "python",
   "name": "python3"
  },
  "language_info": {
   "codemirror_mode": {
    "name": "ipython",
    "version": 3
   },
   "file_extension": ".py",
   "mimetype": "text/x-python",
   "name": "python",
   "nbconvert_exporter": "python",
   "pygments_lexer": "ipython3",
   "version": "3.8.2"
  }
 },
 "nbformat": 4,
 "nbformat_minor": 4
}
