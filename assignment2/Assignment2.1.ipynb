{
 "cells": [
  {
   "cell_type": "code",
   "execution_count": 1,
   "metadata": {},
   "outputs": [],
   "source": [
    "from pdp_utils import *\n",
    "import random\n",
    "import numpy as np\n",
    "import functools\n",
    "\n",
    "np.random.seed(20)\n",
    "\n",
    "def resolve_max_capacity(prob, vehicle_idx):\n",
    "    capacities = prob[\"VesselCapacity\"]\n",
    "    try:\n",
    "        return capacities[vehicle_idx]\n",
    "    # Index out of bounds: give dummy truck infinite capacity\n",
    "    except:\n",
    "        return float('inf')\n",
    "    \n",
    "def resolve_allowed_calls(prob, vehicle_idx):\n",
    "    allowed_calls_list = prob[\"VesselCargo\"]\n",
    "    try:\n",
    "        return allowed_calls_list[vehicle_idx]\n",
    "    # Index out of bounds, allow dummy truck all calls\n",
    "    except:\n",
    "        return np.array([1. for i in range(prob[\"n_calls\"])])\n",
    "\n",
    "    \n"
   ]
  },
  {
   "cell_type": "code",
   "execution_count": 2,
   "metadata": {},
   "outputs": [],
   "source": [
    "class Truck:\n",
    "    \n",
    "    def __init__(self, idx, max_capacity, allowed_calls):\n",
    "        self.idx = idx\n",
    "        self.max_capacity = max_capacity\n",
    "        self.allowed_calls = allowed_calls\n",
    "        self.position = -1\n",
    "        self.time = 0\n",
    "        self.carrying = 0\n",
    "        self.cost = 0\n",
    "        self.actions = []\n",
    "        \n",
    "    def take_call(self, call_idx, prob):\n",
    "        # Assume truck taking the call will pick up good and immediately drive to destination, \n",
    "        # not picking up another call on the way.\n",
    "        self.time = self.resolve_complete_call_time(call_idx, prob)\n",
    "        self.cost += self.resolve_complete_call_cost(call_idx, prob)\n",
    "        self.position = int(prob[\"Cargo\"][call_idx][1]) - 1\n",
    "        self.actions.append(call_idx)\n",
    "        pass\n",
    "    \n",
    "    def resolve_complete_call_time(self, call_idx, prob):\n",
    "        node_from = int(prob[\"Cargo\"][call_idx][0]) - 1\n",
    "        node_to = int(prob[\"Cargo\"][call_idx][1]) - 1\n",
    "        if self.time == 0:\n",
    "            time_to = prob[\"FirstTravelTime\"][self.idx][node_from]\n",
    "        else:\n",
    "            time_to = prob[\"TravelTime\"][self.idx][self.position][node_from]\n",
    "        time_to = max(self.time + time_to, prob[\"Cargo\"][call_idx][4])\n",
    "        time_to += prob[\"LoadingTime\"][self.idx][call_idx]\n",
    "        time_to += prob[\"TravelTime\"][self.idx][node_from][node_to]\n",
    "        time_to = max(self.time + time_to, prob[\"Cargo\"][call_idx][6])\n",
    "        time_to += prob[\"LoadingTime\"][self.idx][call_idx]\n",
    "        return time_to\n",
    "    \n",
    "    def resolve_complete_call_cost(self, call_idx, prob):\n",
    "        node_from = int(prob[\"Cargo\"][call_idx][0]) - 1\n",
    "        node_to = int(prob[\"Cargo\"][call_idx][1]) - 1\n",
    "        if self.cost == 0:\n",
    "            cost_to = prob[\"FirstTravelCost\"][self.idx][node_from]\n",
    "        else:\n",
    "            cost_to = prob[\"TravelCost\"][self.idx][self.position][node_from]\n",
    "        cost_from = prob[\"TravelCost\"][self.idx][node_from][node_to]\n",
    "        return cost_to + cost_from\n",
    "    \n",
    "    def reject_call(self, call_idx, prob):\n",
    "        self.actions.append(call_idx)\n",
    "        # Add cost of not transporting\n",
    "        self.cost += prob[\"Cargo\"][call_idx][3]\n",
    "        "
   ]
  },
  {
   "cell_type": "code",
   "execution_count": 3,
   "metadata": {},
   "outputs": [],
   "source": [
    "def generate_trucks(prob):\n",
    "    trucks = []\n",
    "    for i in range(prob[\"n_vehicles\"]):\n",
    "        initial_call = np.random.choice(np.size(prob[\"Cargo\"], 0))\n",
    "        max_capacity = resolve_max_capacity(prob, i)\n",
    "        allowed_calls = resolve_allowed_calls(prob, i)    \n",
    "        truck = Truck(i, max_capacity, allowed_calls)\n",
    "        trucks.append(truck)\n",
    "    dummy_truck = Truck(prob[\"n_vehicles\"], float('inf'), np.array([1 for i in range(len(prob[\"VesselCargo\"][0]))]))\n",
    "    return trucks, dummy_truck"
   ]
  },
  {
   "cell_type": "code",
   "execution_count": 4,
   "metadata": {},
   "outputs": [],
   "source": [
    "def run_problem(problem):\n",
    "    prob = load_problem(problem)\n",
    "    cargos = prob[\"Cargo\"].copy()\n",
    "    trucks, dummy_truck = generate_trucks(prob)\n",
    "    available_trucks = trucks.copy()\n",
    "    while len(cargos) > 0:\n",
    "        to_select = np.random.choice(np.size(cargos, 0))\n",
    "        current_call = cargos[to_select]\n",
    "        call_idx = np.where(np.all(prob[\"Cargo\"] == current_call,axis=1))[0][0]\n",
    "\n",
    "        # Filter trucks not allowed to take call\n",
    "        available_trucks = [truck for truck in available_trucks \\\n",
    "                                if truck.allowed_calls[call_idx] == 1]\n",
    "        # Filter trucks where time elapsed is too great\n",
    "        available_trucks = [truck for truck in available_trucks \\\n",
    "                                if truck.time + truck.resolve_complete_call_time(call_idx, prob) < current_call[7] ]\n",
    "        # Filter trucks where capacity is not sufficient\n",
    "        available_trucks = [truck for truck in available_trucks \\\n",
    "                                if truck.max_capacity > current_call[2]]\n",
    "\n",
    "        # If no trucks can make call, remove call from list and continue\n",
    "        if len(available_trucks) < 1:\n",
    "            dummy_truck.reject_call(call_idx, prob)\n",
    "            cargos = np.delete(cargos, to_select, axis=0)\n",
    "            continue\n",
    "\n",
    "        # Some truck can make the call: Select random truck among available trucks.\n",
    "        truck = random.choice(available_trucks)\n",
    "        truck.take_call(call_idx, prob)\n",
    "        \n",
    "    solution = functools.reduce(lambda acc, val: acc + [i + 1 for i in val.actions] + [0], trucks, [])\n",
    "    solution = solution + [i+1 for i in dummy_truck.actions]\n",
    "    feasiblity, c = feasibility_check(solution, prob)\n",
    "    sol_cost = cost_function(solution, prob)\n",
    "    sol_cost += dummy_truck.cost\n",
    "    return solution, sol_cost, feasiblity, c, prob\n",
    "    \n",
    "    "
   ]
  },
  {
   "cell_type": "markdown",
   "metadata": {},
   "source": [
    "## C7V3"
   ]
  },
  {
   "cell_type": "code",
   "execution_count": 5,
   "metadata": {},
   "outputs": [
    {
     "name": "stdout",
     "output_type": "stream",
     "text": [
      "[0, 0, 3, 0, 1, 6, 3, 7, 5, 2, 4]\n",
      "init_cost 1908673.0\n",
      "best_cost 4912253.5\n",
      "avg_cost 5022190.367132867\n",
      "improvement 4.6404711977447235\n",
      "elapsed time 43.92014217376709\n"
     ]
    }
   ],
   "source": [
    "import time\n",
    "n = 1000\n",
    "\n",
    "start_time = time.time()\n",
    "c7v3_init_sol, c7v3_init_cost, feasibility, c, prob = run_problem('./Call_7_Vehicle_3.txt')\n",
    "c7v3_best_sol = c7v3_init_sol\n",
    "c7v3_best_cost = c7v3_init_cost\n",
    "c7v3_total_cost = c7v3_init_cost\n",
    "for i in range(n):\n",
    "    solution, sol_cost, feasibility, c, prob = run_problem('./Call_7_Vehicle_3.txt')\n",
    "    c7v3_total_cost += sol_cost\n",
    "    if(sol_cost < c7v3_best_cost):\n",
    "        c7v3_best_sol = solution\n",
    "        c7v3_best_cost = sol_cost\n",
    "end_time = time.time()\n",
    "\n",
    "c7v3_avg_cost = c7v3_total_cost / (n+1)\n",
    "print(c7v3_best_sol)\n",
    "print('init_cost', cost_function(c7v3_init_sol, prob))\n",
    "print('best_cost', c7v3_best_cost)\n",
    "print('avg_cost', c7v3_avg_cost)\n",
    "print('improvement', ((c7v3_init_cost - c7v3_best_cost) / c7v3_init_cost)*100)\n",
    "print('elapsed time', end_time - start_time)"
   ]
  },
  {
   "cell_type": "markdown",
   "metadata": {},
   "source": [
    "## C18V5"
   ]
  },
  {
   "cell_type": "code",
   "execution_count": 6,
   "metadata": {},
   "outputs": [
    {
     "ename": "ValueError",
     "evalue": "too many values to unpack (expected 4)",
     "output_type": "error",
     "traceback": [
      "\u001b[0;31m---------------------------------------------------------------------------\u001b[0m",
      "\u001b[0;31mValueError\u001b[0m                                Traceback (most recent call last)",
      "\u001b[0;32m<ipython-input-6-13302412b260>\u001b[0m in \u001b[0;36m<module>\u001b[0;34m\u001b[0m\n\u001b[1;32m      1\u001b[0m \u001b[0mstart_time\u001b[0m \u001b[0;34m=\u001b[0m \u001b[0mtime\u001b[0m\u001b[0;34m.\u001b[0m\u001b[0mtime\u001b[0m\u001b[0;34m(\u001b[0m\u001b[0;34m)\u001b[0m\u001b[0;34m\u001b[0m\u001b[0;34m\u001b[0m\u001b[0m\n\u001b[0;32m----> 2\u001b[0;31m \u001b[0mc18v5_init_sol\u001b[0m\u001b[0;34m,\u001b[0m \u001b[0mfeasibility\u001b[0m\u001b[0;34m,\u001b[0m \u001b[0mc\u001b[0m\u001b[0;34m,\u001b[0m \u001b[0mprob\u001b[0m \u001b[0;34m=\u001b[0m \u001b[0mrun_problem\u001b[0m\u001b[0;34m(\u001b[0m\u001b[0;34m'./Call_18_Vehicle_5.txt'\u001b[0m\u001b[0;34m)\u001b[0m\u001b[0;34m\u001b[0m\u001b[0;34m\u001b[0m\u001b[0m\n\u001b[0m\u001b[1;32m      3\u001b[0m \u001b[0mc18v5_init_cost\u001b[0m \u001b[0;34m=\u001b[0m \u001b[0mcost_function\u001b[0m\u001b[0;34m(\u001b[0m\u001b[0mc18v5_init_sol\u001b[0m\u001b[0;34m,\u001b[0m \u001b[0mprob\u001b[0m\u001b[0;34m)\u001b[0m\u001b[0;34m\u001b[0m\u001b[0;34m\u001b[0m\u001b[0m\n\u001b[1;32m      4\u001b[0m \u001b[0mc18v5_best_sol\u001b[0m \u001b[0;34m=\u001b[0m \u001b[0mc18v5_init_sol\u001b[0m\u001b[0;34m\u001b[0m\u001b[0;34m\u001b[0m\u001b[0m\n\u001b[1;32m      5\u001b[0m \u001b[0mc18v5_best_cost\u001b[0m \u001b[0;34m=\u001b[0m \u001b[0mc18v5_init_cost\u001b[0m\u001b[0;34m\u001b[0m\u001b[0;34m\u001b[0m\u001b[0m\n",
      "\u001b[0;31mValueError\u001b[0m: too many values to unpack (expected 4)"
     ]
    }
   ],
   "source": [
    "\n",
    "start_time = time.time()\n",
    "c18v5_init_sol, feasibility, c, prob = run_problem('./Call_18_Vehicle_5.txt')\n",
    "c18v5_init_cost = cost_function(c18v5_init_sol, prob)\n",
    "c18v5_best_sol = c18v5_init_sol\n",
    "c18v5_best_cost = c18v5_init_cost\n",
    "c18v5_total_cost = c18v5_init_cost\n",
    "for i in range(n):\n",
    "    solution, feasibility, c, prob = run_problem('./Call_18_Vehicle_5.txt')\n",
    "    sol_cost = cost_function(solution, prob)\n",
    "    c18v5_total_cost += sol_cost\n",
    "    if(sol_cost < c18v5_best_cost):\n",
    "        c18v5_best_sol = solution\n",
    "        c18v5_best_cost = sol_cost\n",
    "end_time = time.time()\n",
    "\n",
    "c18v5_avg_cost = c18v5_total_cost / (n+1)\n",
    "print(c18v5_best_sol)\n",
    "print('init_cost', cost_function(c18v5_init_sol, prob))\n",
    "print('best_cost', c18v5_best_cost)\n",
    "print('avg_cost', c18v5_avg_cost)\n",
    "print('improvement', ((c18v5_init_cost - c18v5_best_cost) / c18v5_init_cost)*100)\n",
    "print('elapsed time', end_time - start_time)"
   ]
  },
  {
   "cell_type": "markdown",
   "metadata": {},
   "source": [
    "## C35V7 "
   ]
  },
  {
   "cell_type": "code",
   "execution_count": null,
   "metadata": {},
   "outputs": [],
   "source": [
    "start_time = time.time()\n",
    "c35v7_init_sol, feasibility, c, prob = run_problem('./Call_35_Vehicle_7.txt')\n",
    "c35v7_init_cost = cost_function(c35v7_init_sol, prob)\n",
    "c35v7_best_sol = c35v7_init_sol\n",
    "c35v7_best_cost = c35v7_init_cost\n",
    "c35v7_total_cost = c35v7_init_cost\n",
    "for i in range(n):\n",
    "    solution, feasibility, c, prob = run_problem('./Call_35_Vehicle_7.txt')\n",
    "    sol_cost = cost_function(solution, prob)\n",
    "    c35v7_total_cost += sol_cost\n",
    "    if(sol_cost < c35v7_best_cost):\n",
    "        c35v7_best_sol = solution\n",
    "        c35v7_best_cost = sol_cost\n",
    "end_time = time.time()\n",
    "\n",
    "c35v7_avg_cost = c35v7_total_cost / (n+1)\n",
    "print(c35v7_best_sol)\n",
    "print('init_cost', cost_function(c35v7_init_sol, prob))\n",
    "print('best_cost', c35v7_best_cost)\n",
    "print('avg_cost', c35v7_avg_cost)\n",
    "print('improvement', ((c35v7_init_cost - c35v7_best_cost) / c35v7_init_cost)*100)\n",
    "print('elapsed time', end_time - start_time)"
   ]
  },
  {
   "cell_type": "markdown",
   "metadata": {},
   "source": [
    "## C80V20"
   ]
  },
  {
   "cell_type": "code",
   "execution_count": null,
   "metadata": {},
   "outputs": [],
   "source": [
    "start_time = time.time()\n",
    "c80v20_init_sol, feasibility, c, prob = run_problem('./Call_80_Vehicle_20.txt')\n",
    "c80v20_init_cost = cost_function(c80v20_init_sol, prob)\n",
    "c80v20_best_sol = c80v20_init_sol\n",
    "c80v20_best_cost = c80v20_init_cost\n",
    "c80v20_total_cost = c80v20_init_cost\n",
    "for i in range(n):\n",
    "    solution, feasibility, c, prob = run_problem('./Call_80_Vehicle_20.txt')\n",
    "    sol_cost = cost_function(solution, prob)\n",
    "    c80v20_total_cost += sol_cost\n",
    "    if(sol_cost < c80v20_best_cost):\n",
    "        c80v20_best_sol = solution\n",
    "        c80v20_best_cost = sol_cost\n",
    "end_time = time.time()\n",
    "\n",
    "c80v20_avg_cost = c80v20_total_cost / (n+1)\n",
    "print(c80v20_best_sol)\n",
    "print('init_cost', cost_function(c80v20_init_sol, prob))\n",
    "print('best_cost', c80v20_best_cost)\n",
    "print('avg_cost', c80v20_avg_cost)\n",
    "print('improvement', ((c80v20_init_cost - c80v20_best_cost) / c80v20_init_cost)*100)\n",
    "print('elapsed time', end_time - start_time)"
   ]
  },
  {
   "cell_type": "markdown",
   "metadata": {},
   "source": [
    "## C130V40"
   ]
  },
  {
   "cell_type": "code",
   "execution_count": null,
   "metadata": {},
   "outputs": [],
   "source": [
    "start_time = time.time()\n",
    "c130v40_init_sol, feasibility, c, prob = run_problem('./Call_130_Vehicle_40.txt')\n",
    "c130v40_init_cost = cost_function(c130v40_init_sol, prob)\n",
    "c130v40_best_sol = c130v40_init_sol\n",
    "c130v40_best_cost = c130v40_init_cost\n",
    "c130v40_total_cost = c130v40_init_cost\n",
    "for i in range(n):\n",
    "    solution, feasibility, c, prob = run_problem('./Call_130_Vehicle_40.txt')\n",
    "    sol_cost = cost_function(solution, prob)\n",
    "    c130v40_total_cost += sol_cost\n",
    "    if(sol_cost < c130v40_best_cost):\n",
    "        c130v40_best_sol = solution\n",
    "        c130v40_best_cost = sol_cost\n",
    "end_time = time.time()\n",
    "\n",
    "c130v40_avg_cost = c130v40_total_cost / (n+1)\n",
    "print(c130v40_best_sol)\n",
    "print('init_cost', cost_function(c130v40_init_sol, prob))\n",
    "print('best_cost', c130v40_best_cost)\n",
    "print('avg_cost', c130v40_avg_cost)\n",
    "print('improvement', ((c130v40_init_cost - c130v40_best_cost) / c130v40_init_cost)*100)\n",
    "print('elapsed time', end_time - start_time)"
   ]
  },
  {
   "cell_type": "markdown",
   "metadata": {},
   "source": [
    "## C300V90"
   ]
  },
  {
   "cell_type": "code",
   "execution_count": null,
   "metadata": {},
   "outputs": [],
   "source": [
    "start_time = time.time()\n",
    "c300v90_init_sol, feasibility, c, prob = run_problem('./Call_300_Vehicle_90.txt')\n",
    "c300v90_init_cost = cost_function(c300v90_init_sol, prob)\n",
    "c300v90_best_sol = c300v90_init_sol\n",
    "c300v90_best_cost = c300v90_init_cost\n",
    "c300v90_total_cost = c300v90_init_cost\n",
    "for i in range(n):\n",
    "    solution, feasibility, c, prob = run_problem('./Call_300_Vehicle_90.txt')\n",
    "    sol_cost = cost_function(solution, prob)\n",
    "    c300v90_total_cost += sol_cost\n",
    "    if(sol_cost < c300v90_best_cost):\n",
    "        c300v90_best_sol = solution\n",
    "        c300v90_best_cost = sol_cost\n",
    "end_time = time.time()\n",
    "\n",
    "c300v90_avg_cost = c300v90_total_cost / (n+1)\n",
    "print(c300v90_best_sol)\n",
    "print('init_cost', cost_function(c300v90_init_sol, prob))\n",
    "print('best_cost', c300v90_best_cost)\n",
    "print('avg_cost', c300v90_avg_cost)\n",
    "print('improvement', ((c300v90_init_cost - c300v90_best_cost) / c300v90_init_cost)*100)\n",
    "print('elapsed time', end_time - start_time)"
   ]
  },
  {
   "cell_type": "code",
   "execution_count": null,
   "metadata": {},
   "outputs": [],
   "source": []
  },
  {
   "cell_type": "code",
   "execution_count": null,
   "metadata": {},
   "outputs": [],
   "source": []
  },
  {
   "cell_type": "code",
   "execution_count": null,
   "metadata": {},
   "outputs": [],
   "source": [
    "print(dummy_truck)"
   ]
  },
  {
   "cell_type": "code",
   "execution_count": null,
   "metadata": {},
   "outputs": [],
   "source": []
  }
 ],
 "metadata": {
  "kernelspec": {
   "display_name": "Python 3",
   "language": "python",
   "name": "python3"
  },
  "language_info": {
   "codemirror_mode": {
    "name": "ipython",
    "version": 3
   },
   "file_extension": ".py",
   "mimetype": "text/x-python",
   "name": "python",
   "nbconvert_exporter": "python",
   "pygments_lexer": "ipython3",
   "version": "3.8.2"
  }
 },
 "nbformat": 4,
 "nbformat_minor": 4
}
